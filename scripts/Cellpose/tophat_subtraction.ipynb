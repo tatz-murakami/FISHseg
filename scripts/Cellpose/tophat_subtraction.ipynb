{
 "cells": [
  {
   "cell_type": "code",
   "execution_count": null,
   "id": "f88be9cd-d072-4dc0-ae61-7f9e91e9e881",
   "metadata": {},
   "outputs": [],
   "source": [
    "import numpy as np\n",
    "import napari\n",
    "import zarr\n",
    "from skimage.exposure import match_histograms\n",
    "import dask.array as da\n",
    "import os\n",
    "os.environ[\"CUDA_DEVICE_ORDER\"]=\"PCI_BUS_ID\"\n",
    "os.environ[\"CUDA_VISIBLE_DEVICES\"]=\"0,1\"\n",
    "\n",
    "from ome_zarr.writer import write_multiscales_metadata\n",
    "from ome_zarr.io import parse_url\n",
    "from ome_zarr.reader import Reader\n",
    "from tqdm import tqdm\n",
    "import mFISHwarp.utils\n",
    "import mFISHwarp.zarr\n",
    "\n",
    "import ray\n",
    "\n",
    "from cucim.skimage.morphology import white_tophat\n",
    "from cucim.skimage.morphology import ball\n",
    "import cupy as cp"
   ]
  },
  {
   "cell_type": "code",
   "execution_count": null,
   "id": "8e09f8ce-7152-46af-9621-3501128252a7",
   "metadata": {},
   "outputs": [],
   "source": [
    "# read the source\n",
    "# image path\n",
    "# '/mnt/ampa02_data01/tmurakami/240425_whole_4color_2nd_M037-3pb/fused/fused.n5'\n",
    "# '/mnt/ampa02_data01/tmurakami/240417_whole_4color_1st_M037-3pb/fused/fused.n5'\n",
    "data_path = '/mnt/ampa02_data01/tmurakami/240417_whole_4color_1st_M037-3pb/fused/fused.n5'\n",
    "resolution = 0\n",
    "chunk_size = (1, 256,256,256)\n",
    "physical_scale = (1.0,2.0,1.3,1.3)\n",
    "# lazily load the data of the targeted resolution using dask\n",
    "_, ext = os.path.splitext(data_path)\n",
    "\n",
    "\n",
    "imgs = []\n",
    "if ext == '.n5': # n5 assume bigstitcher (bigdataviewer) format\n",
    "    # create Zarr file object\n",
    "    # load images according to the input parameters.\n",
    "    img_zarr = zarr.open(store=zarr.N5Store(data_path), mode='r')\n",
    "    n5_setups = list(img_zarr.keys())\n",
    "    res_list = list(img_zarr[n5_setups[0]]['timepoint0'].keys())\n",
    "    \n",
    "    for n5_setup in n5_setups:\n",
    "        imgs.append(da.from_zarr(img_zarr[n5_setup]['timepoint0'][res_list[resolution]]))\n",
    "    imgs = da.stack(imgs)\n",
    "        \n",
    "\n",
    "elif ext == '.zarr': # zarr assumes ome-zarr\n",
    "    # read the image data\n",
    "    store = parse_url(data_path, mode=\"r\").store\n",
    "    reader = Reader(parse_url(data_path))\n",
    "    # nodes may include images, labels etc\n",
    "    nodes = list(reader())\n",
    "    # first node will be the image pixel data\n",
    "    image_node = nodes[0]\n",
    "\n",
    "    dask_data = image_node.data\n",
    "    imgs = dask_data[resolution]\n",
    "    \n",
    "    \n",
    "# rechunk for analysis\n",
    "imgs = imgs.rechunk(chunk_size)"
   ]
  },
  {
   "cell_type": "code",
   "execution_count": null,
   "id": "f9325e5b-d26b-443c-8bcb-1a8de2d1ce53",
   "metadata": {
    "tags": []
   },
   "outputs": [],
   "source": [
    "save_zarr_path = '/mnt/ampa02_data01/tmurakami/240417_whole_4color_1st_M037-3pb/fused/top_hat_10.zarr'\n",
    "downscale_factor_pyramid = (1,2,2,2)\n",
    "pyramid_level = 5\n",
    "axes_info = ['c','z','y','x']\n",
    "\n",
    "## create zarr to save the histogram matched image.\n",
    "store = zarr.DirectoryStore(save_zarr_path, dimension_separator='/')\n",
    "root = zarr.group(store=store)\n",
    "\n",
    "# np.int16 may not be appropriate, but it works for now to reduce the datasize without clipping.\n",
    "data_zarr = root.create_dataset('0',shape=imgs.shape,chunks=chunk_size,dtype=np.uint16)\n",
    "\n",
    "# prepare metadata to zarr\n",
    "datasets = mFISHwarp.zarr.datasets_metadata_generator(physical_scale, downscale_factor=downscale_factor_pyramid, pyramid_level=pyramid_level)\n",
    "\n",
    "### write metadata for ome-zarr\n",
    "write_multiscales_metadata(root, datasets=datasets, axes=axes_info)"
   ]
  },
  {
   "cell_type": "code",
   "execution_count": null,
   "id": "a8e0db5d-fbbe-4aec-8940-c2d463b7087a",
   "metadata": {},
   "outputs": [],
   "source": [
    "index_list = list(np.ndindex(*imgs.numblocks))\n",
    "chunk_info = imgs.chunks"
   ]
  },
  {
   "cell_type": "code",
   "execution_count": null,
   "id": "b207bdcc-b2af-4c6c-a21e-923156db73cd",
   "metadata": {},
   "outputs": [],
   "source": [
    "# img_id = ray.put(imgs)\n",
    "\n",
    "@ray.remote(num_gpus=0.1)\n",
    "def top_hat_gpu(index, ballsize=10):\n",
    "    \n",
    "    footprint = ball(ballsize)\n",
    "    img = imgs.blocks[index].compute().squeeze()\n",
    "    img_cp = cp.asarray(img)\n",
    "    \n",
    "    res = cp.asnumpy(white_tophat(img_cp,footprint))\n",
    "\n",
    "    del footprint\n",
    "    del img_cp\n",
    "    cp._default_memory_pool.free_all_blocks()\n",
    "    \n",
    "    slicer = tuple(slice(sum(i[:j]),sum(i[:j])+i[j]) for i, j in zip(chunk_info,index))\n",
    "\n",
    "    root['0'][slicer] = res[np.newaxis, ...]"
   ]
  },
  {
   "cell_type": "code",
   "execution_count": null,
   "id": "4247bb1f-5412-4e31-a1b0-4e94836c4c7e",
   "metadata": {
    "tags": []
   },
   "outputs": [],
   "source": [
    "tasks = []\n",
    "for index in index_list:\n",
    "    tasks.append(top_hat_gpu.remote(index))\n",
    "# using ray.get can make the things wait until it done the all process.\n",
    "results = ray.get(tasks)"
   ]
  },
  {
   "cell_type": "code",
   "execution_count": null,
   "id": "948475a0-d1db-452d-a661-336267f705a0",
   "metadata": {},
   "outputs": [],
   "source": [
    "# make pyramid images\n",
    "data = da.from_zarr(root['0'])\n",
    "mFISHwarp.zarr.pyramid_from_dask_to_zarr(data, root, downscale_factor=downscale_factor_pyramid, resolution_start=1, pyramid_level=pyramid_level, chunk=mFISHwarp.utils.chunks_from_dask(data))\n",
    "# pyramid = mFISHwarp.zarr.pyramid_generator_from_dask(data, downscale_factor=downscale_factor_pyramid, pyramid_level=5, chunk=mFISHwarp.utils.chunks_from_dask(data))"
   ]
  },
  {
   "cell_type": "code",
   "execution_count": null,
   "id": "aef99fec-94a5-40d5-a2aa-7ed76ed68448",
   "metadata": {},
   "outputs": [],
   "source": [
    "# for resolution in range(pyramid_level):\n",
    "#     if resolution == 0:\n",
    "#         pass\n",
    "#     else:\n",
    "#         arr = pyramid[resolution]\n",
    "#         p = root.create_dataset(str(resolution),shape=arr.shape,chunks=mFISHwarp.utils.chunks_from_dask(data),dtype=arr.dtype)\n",
    "#         arr.to_zarr(p,dimension_separator='/')"
   ]
  },
  {
   "cell_type": "code",
   "execution_count": null,
   "id": "2f94addd-4875-4399-b476-8b5d0e585da9",
   "metadata": {},
   "outputs": [],
   "source": []
  }
 ],
 "metadata": {
  "kernelspec": {
   "display_name": "deform",
   "language": "python",
   "name": "deform"
  },
  "language_info": {
   "codemirror_mode": {
    "name": "ipython",
    "version": 3
   },
   "file_extension": ".py",
   "mimetype": "text/x-python",
   "name": "python",
   "nbconvert_exporter": "python",
   "pygments_lexer": "ipython3",
   "version": "3.8.12"
  }
 },
 "nbformat": 4,
 "nbformat_minor": 5
}
