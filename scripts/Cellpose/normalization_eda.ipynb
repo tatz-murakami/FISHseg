{
 "cells": [
  {
   "cell_type": "code",
   "execution_count": 1,
   "id": "2ace6dd8-6383-49c7-a3c9-64f36db3519d",
   "metadata": {},
   "outputs": [],
   "source": [
    "import numpy as np\n",
    "import napari\n",
    "import pandas as pd\n",
    "from tqdm import tqdm\n",
    "import zarr\n",
    "import mFISHwarp.morphology\n",
    "import mFISHwarp.fft\n",
    "from skimage.filters import threshold_otsu\n",
    "from skimage.exposure import match_histograms\n",
    "import pickle\n",
    "from scipy import fft\n",
    "import dask.array as da\n",
    "import os"
   ]
  },
  {
   "cell_type": "code",
   "execution_count": 3,
   "id": "e8ca7c19-ec3a-4f56-900f-df586f9d477c",
   "metadata": {},
   "outputs": [],
   "source": [
    "# image path\n",
    "# '/mnt/ampa02_data01/tmurakami/240425_whole_4color_2nd_M037-3pb/fused/fused.n5'\n",
    "# '/mnt/ampa02_data01/tmurakami/240417_whole_4color_1st_M037-3pb/fused/fused.n5'\n",
    "data_path = '/mnt/ampa02_data01/tmurakami/240425_whole_4color_2nd_M037-3pb/fused/fused.n5'\n",
    "\n",
    "voxel_size = (2.0,1.3,1.3)\n",
    "reference_chan = 3\n",
    "segment_chan = 2\n",
    "upper_percentile = 99\n",
    "lower_percentile = 30\n",
    "resolution = 3 # s2 is the maximum considering the RAM size.\n",
    "\n",
    "hann_window_shrink_factors = [1]\n",
    "# hann_window_shrink_factor = 10\n",
    "\n",
    "_, ext = os.path.splitext(data_path)\n",
    "\n",
    "\n",
    "if ext == '.n5': # n5 assume bigstitcher (bigdataviewer) format\n",
    "    # create Zarr file object\n",
    "    # load images according to the input parameters.\n",
    "    img_zarr = zarr.open(store=zarr.N5Store(data_path), mode='r')\n",
    "    n5_setups = list(img_zarr.keys())\n",
    "    res_list = list(img_zarr[n5_setups[reference_chan]]['timepoint0'].keys())\n",
    "\n",
    "    # img_da = da.from_zarr(img_zarr[n5_setups[segment_chan]]['timepoint0'][res_list[resolution]])\n",
    "    \n",
    "viewer = napari.Viewer()    \n",
    "\n",
    "# make mask that covers only tissue to exclude the area outside of the tissue.\n",
    "img_down_ref = img_zarr[n5_setups[reference_chan]]['timepoint0'][res_list[resolution]][:]\n",
    "global_thresh = threshold_otsu(img_down_ref)\n",
    "img_mask = mFISHwarp.morphology.mask_maker(img_down_ref,global_thresh)\n",
    "\n",
    "img_down = img_zarr[n5_setups[segment_chan]]['timepoint0'][res_list[resolution]][:]\n",
    "shape = img_down.shape\n",
    "\n",
    "# make mask in Fourier space to remove low frequency component.\n",
    "for hann_window_shrink_factor in hann_window_shrink_factors:\n",
    "    hann_3d = mFISHwarp.fft.create_3d_hann_window(tuple(i//hann_window_shrink_factor for i in shape), shape)\n",
    "    mask = 1 - hann_3d\n",
    "\n",
    "    filtered_image = mFISHwarp.fft.fft_filter(img_down, mask)\n",
    "\n",
    "    lower = np.percentile(img_down[np.where(img_mask)],lower_percentile)\n",
    "    upper = np.percentile(img_down[np.where(img_mask)],upper_percentile)\n",
    "\n",
    "    lower_f = np.percentile(filtered_image[np.where(img_mask)],lower_percentile)\n",
    "    upper_f = np.percentile(filtered_image[np.where(img_mask)],upper_percentile)\n",
    "\n",
    "    # normalization\n",
    "    norm_img = (img_down.astype(float)-lower)/(upper-lower)\n",
    "    norm_img_fft = (filtered_image.astype(float)-lower_f)/(upper_f-lower_f)\n",
    "\n",
    "    viewer.add_image(norm_img, contrast_limits=[0,1],blending='translucent',name='img')\n",
    "    viewer.add_image(norm_img_fft, contrast_limits=[0,1],blending='translucent',name='fft')"
   ]
  },
  {
   "cell_type": "code",
   "execution_count": 3,
   "id": "ee0df842-1c0f-4084-b044-f236f6e82e97",
   "metadata": {},
   "outputs": [],
   "source": [
    "box_size = 32\n",
    "z = 85; y = 775; x = 575\n",
    "# z = 160; y = 584; x = 478\n",
    "# z = 160; y = 300; x = 233\n",
    "# z = 100; y = 741; x = 671\n",
    "# z = 100*2; y = 742*2; x = 638*2\n",
    "# z = 164; y = 1442; x = 454\n",
    "# factors = {'s0':1, 's1':2, 's2':4, 's3':8}\n",
    "factor = 2 ** resolution# factors[resolution]\n",
    "my_range = (slice(z,z+box_size), slice(y,y+box_size), slice(x,x+box_size))\n",
    "my_range_in_high = (slice(z*factor,z*factor+box_size*factor),\n",
    "                    slice(y*factor,y*factor+box_size*factor),\n",
    "                    slice(x*factor,x*factor+box_size*factor))\n",
    "matched = match_histograms(norm_img[my_range], norm_img_fft[my_range])"
   ]
  },
  {
   "cell_type": "code",
   "execution_count": 4,
   "id": "d3820afe-4fa1-426a-8ee3-359dbe5e4d3a",
   "metadata": {},
   "outputs": [],
   "source": [
    "img_high = da.from_zarr(img_zarr[n5_setups[segment_chan]]['timepoint0']['s0'])\n",
    "block = img_high[my_range_in_high].compute().astype(float)\n",
    "matched_fft = match_histograms(block, norm_img_fft[my_range])\n",
    "matched_reg = match_histograms(block, norm_img[my_range])"
   ]
  },
  {
   "cell_type": "code",
   "execution_count": 5,
   "id": "c9b8a755-58fc-4922-83b1-62989340f12b",
   "metadata": {},
   "outputs": [
    {
     "data": {
      "text/plain": [
       "<Image layer 'matched_fft' at 0x7fe3494082e0>"
      ]
     },
     "execution_count": 5,
     "metadata": {},
     "output_type": "execute_result"
    }
   ],
   "source": [
    "viewer = napari.Viewer()\n",
    "\n",
    "viewer.add_image(matched_reg, contrast_limits=[0,1],blending='translucent',name='matched_reg')\n",
    "viewer.add_image(matched_fft, contrast_limits=[0,1],blending='translucent',name='matched_fft')"
   ]
  },
  {
   "cell_type": "code",
   "execution_count": 14,
   "id": "41dd6b6c-af6d-46bc-91ce-9c67b5eac45f",
   "metadata": {},
   "outputs": [
    {
     "data": {
      "text/plain": [
       "<Image layer 'matched' at 0x7efd874e17f0>"
      ]
     },
     "execution_count": 14,
     "metadata": {},
     "output_type": "execute_result"
    }
   ],
   "source": [
    "viewer = napari.Viewer()\n",
    "\n",
    "viewer.add_image(norm_img[my_range], contrast_limits=[0,1],blending='translucent',name='img')\n",
    "viewer.add_image(norm_img_fft[my_range], contrast_limits=[0,1],blending='translucent',name='fft')\n",
    "viewer.add_image(matched, contrast_limits=[0,1],blending='translucent',name='matched')"
   ]
  },
  {
   "cell_type": "code",
   "execution_count": 6,
   "id": "87468e38-5fa4-4b20-bd6d-c4b324320442",
   "metadata": {},
   "outputs": [],
   "source": [
    "#"
   ]
  },
  {
   "cell_type": "code",
   "execution_count": null,
   "id": "892bb442-d835-4117-8333-5c90823a9837",
   "metadata": {},
   "outputs": [],
   "source": []
  }
 ],
 "metadata": {
  "kernelspec": {
   "display_name": "cellpose2",
   "language": "python",
   "name": "cellpose2"
  },
  "language_info": {
   "codemirror_mode": {
    "name": "ipython",
    "version": 3
   },
   "file_extension": ".py",
   "mimetype": "text/x-python",
   "name": "python",
   "nbconvert_exporter": "python",
   "pygments_lexer": "ipython3",
   "version": "3.8.19"
  }
 },
 "nbformat": 4,
 "nbformat_minor": 5
}
