{
 "cells": [
  {
   "cell_type": "code",
   "execution_count": null,
   "id": "79e0e8b2-e27a-4bf9-8a7c-16c93b36f96b",
   "metadata": {
    "tags": []
   },
   "outputs": [],
   "source": [
    "import numpy as np\n",
    "import time, os, sys\n",
    "os.environ[\"CUDA_DEVICE_ORDER\"]=\"PCI_BUS_ID\"\n",
    "os.environ[\"CUDA_VISIBLE_DEVICES\"]=\"0\"\n",
    "\n",
    "from cellpose import models, core\n",
    "\n",
    "use_GPU = core.use_gpu()\n",
    "print('>>> GPU activated? %d'%use_GPU)\n",
    "\n",
    "# call logger_setup to have output of cellpose written\n",
    "from cellpose.io import logger_setup\n",
    "from cellpose import utils\n",
    "\n",
    "import random\n",
    "from skimage import io\n",
    "import pandas as pd\n",
    "\n",
    "import zarr\n",
    "import napari"
   ]
  },
  {
   "cell_type": "code",
   "execution_count": null,
   "id": "4736c157-37d4-417d-876a-ac2c5721e065",
   "metadata": {},
   "outputs": [],
   "source": [
    "def get_file_prefix(directory,postfix):\n",
    "    files = os.listdir(directory)\n",
    "    files.sort()\n",
    "    files = pd.Series(files)\n",
    "    selected_files = files[files.str.contains(postfix)]\n",
    "    prefixes = selected_files.str.split(postfix,expand=True)[0].to_list()\n",
    "    \n",
    "    return prefixes\n",
    "\n",
    "def augmenter(x):\n",
    "    \"\"\"\n",
    "    Augmentation of a single input/label image pair. 90rot, 180rot, 270rot, flip, flip90rot, flip180rot, flip270rot will be generated\n",
    "    x is an input image\n",
    "    \"\"\"\n",
    "    # Note that we only use fliprots along axis=(1,2), i.e. the yx axis \n",
    "    # as 3D microscopy acquisitions are usually not axially symmetric\n",
    "    x90rot = np.rot90(x)\n",
    "    x180rot = np.rot90(x90rot)\n",
    "    x270rot = np.rot90(x180rot)\n",
    "    xflip = np.flip(x)\n",
    "    xflip90rot = np.rot90(xflip)\n",
    "    xflip180rot = np.rot90(xflip90rot)\n",
    "    xflip270rot = np.rot90(xflip180rot)\n",
    "    \n",
    "    return (x90rot, x180rot, x270rot, xflip, xflip90rot, xflip180rot, xflip270rot)\n",
    "\n",
    "def add_last_size_to3(array, size=3):\n",
    "    \"\"\"\n",
    "    add the size of the last dimension up to 3. Otherwise Cellpose looks get confused.\n",
    "    \"\"\"\n",
    "    if array.shape[-1] <3:\n",
    "        array = np.pad(array, ((0, 0), (0, 0), (0, size-array.shape[-1])), 'constant' ,constant_values=0)\n",
    "        return array\n",
    "    else:\n",
    "        return array"
   ]
  },
  {
   "cell_type": "code",
   "execution_count": null,
   "id": "1cb39811-c61e-43a9-abf2-844efc44c0de",
   "metadata": {},
   "outputs": [],
   "source": [
    "# path to dataset\n",
    "dataset_folder = \"/mnt/ampa02_data01/tmurakami/240417_whole_4color_1st_M037-3pb/model_training/crops\"\n",
    "\n",
    "# other parameters for training.\n",
    "number_of_epochs =  500\n",
    "\n",
    "Training_channel = 2 # I do not know but the cellpose see the images as KRGB. If the color is green, set it to 2.\n",
    "Second_training_channel = 1\n",
    "\n",
    "batch_size =  8\n",
    "initial_learning_rate = 0.0002\n",
    "\n",
    "img_postfix = 'img'\n",
    "mask_postfix = 'mask'\n",
    "extension = '.tif'"
   ]
  },
  {
   "cell_type": "code",
   "execution_count": null,
   "id": "70385aeb-97bc-4285-8860-91bddba86144",
   "metadata": {
    "tags": []
   },
   "outputs": [],
   "source": [
    "# make folder to save augmented data\n",
    "aug_folder = os.path.join(dataset_folder, 'augment')\n",
    "if not os.path.isdir(aug_folder):\n",
    "    os.makedirs(aug_folder)"
   ]
  },
  {
   "cell_type": "code",
   "execution_count": null,
   "id": "112a5bd0-5882-4fed-b339-075f2bd3a218",
   "metadata": {
    "tags": []
   },
   "outputs": [],
   "source": [
    "### data augmentation\n",
    "prefixes = get_file_prefix(dataset_folder, img_postfix)\n",
    "for prefix in prefixes:\n",
    "    x = np.moveaxis(io.imread(os.path.join(dataset_folder,prefix+img_postfix+extension)),0,-1)\n",
    "    x = add_last_size_to3(x,3)\n",
    "    y = io.imread(os.path.join(dataset_folder,prefix+mask_postfix+extension))\n",
    "    x_args = augmenter(x)\n",
    "    y_args = augmenter(y)\n",
    "    counter = 0\n",
    "    io.imsave(os.path.join(aug_folder,prefix+'_'+'arg_'+img_postfix+extension),x)\n",
    "    io.imsave(os.path.join(aug_folder,prefix+'_'+'arg_'+mask_postfix+extension),y)\n",
    "    for x_arg, y_arg in zip(x_args, y_args):\n",
    "        io.imsave(os.path.join(aug_folder,prefix+str(counter)+'arg_'+img_postfix+extension),x_arg)\n",
    "        io.imsave(os.path.join(aug_folder,prefix+str(counter)+'arg_'+mask_postfix+extension),y_arg)\n",
    "        counter += 1"
   ]
  },
  {
   "cell_type": "code",
   "execution_count": null,
   "id": "0856bc0d-c6ca-4b08-9ead-611e69db17c9",
   "metadata": {},
   "outputs": [],
   "source": [
    "# make folders to save traning and test dataset\n",
    "train_folder = os.path.join(aug_folder,'training')\n",
    "test_folder = os.path.join(aug_folder,'test')\n",
    "\n",
    "if not os.path.isdir(train_folder):\n",
    "    os.makedirs(train_folder)\n",
    "if not os.path.isdir(test_folder):\n",
    "    os.makedirs(test_folder)"
   ]
  },
  {
   "cell_type": "code",
   "execution_count": null,
   "id": "c9b7e2c9-1cad-46ea-805b-7eb25b1c8bff",
   "metadata": {
    "tags": []
   },
   "outputs": [],
   "source": [
    "# divide dataset to traning and test dataset\n",
    "prefixes = get_file_prefix(aug_folder, img_postfix)\n",
    "\n",
    "rng = np.random.RandomState(42)\n",
    "ind = rng.permutation(len(prefixes))\n",
    "n_val = max(1, int(round(0.15 * len(ind))))\n",
    "ind_train, ind_val = ind[:-n_val], ind[-n_val:]\n",
    "\n",
    "for i in ind_val:\n",
    "    os.rename(os.path.join(aug_folder,prefixes[i]+img_postfix+extension),os.path.join(test_folder,prefixes[i]+img_postfix+extension))\n",
    "    os.rename(os.path.join(aug_folder,prefixes[i]+mask_postfix+extension),os.path.join(test_folder,prefixes[i]+mask_postfix+extension))\n",
    "for i in ind_train:\n",
    "    os.rename(os.path.join(aug_folder,prefixes[i]+img_postfix+extension),os.path.join(train_folder,prefixes[i]+img_postfix+extension))\n",
    "    os.rename(os.path.join(aug_folder,prefixes[i]+mask_postfix+extension),os.path.join(train_folder,prefixes[i]+mask_postfix+extension))"
   ]
  },
  {
   "cell_type": "code",
   "execution_count": null,
   "id": "bfcd4282-0bcb-4547-9085-850dfaaec0df",
   "metadata": {
    "tags": []
   },
   "outputs": [],
   "source": [
    "### set pretrained model if there is any \n",
    "model_to_load = None \n",
    "diameter = 10 # diameter is a very important hyperparameter, which could affect both the speed and accuracy \n",
    "min_train_masks = 0 # Cellpose seems to ignore the images with no labels even if this parameter sets to be zero.\n",
    "\n",
    "# run the training\n",
    "# no_norm will make the training more challenging. Skip this option.\n",
    "# with diameter parameter\n",
    "!/home/tmurakami/app/miniconda3/envs/cellpose/bin/python -m cellpose --train --use_gpu --dir $train_folder --test_dir $test_folder --pretrained_model $model_to_load --diam_mean $diameter --chan $Training_channel --chan2 $Second_training_channel --n_epochs $number_of_epochs --learning_rate $initial_learning_rate --batch_size $batch_size --img_filter $img_postfix --mask_filter $mask_postfix  --verbose --min_train_masks $min_train_masks\n",
    "# without diameter\n",
    "# !/home/tmurakami/app/miniconda3/envs/cellpose/bin/python -m cellpose --train --use_gpu --dir $train_folder --test_dir $test_folder --pretrained_model $model_to_load --chan $Training_channel --chan2 $Second_training_channel --n_epochs $number_of_epochs --learning_rate $initial_learning_rate --batch_size $batch_size --img_filter $img_postfix --mask_filter $mask_postfix  --verbose --min_train_masks 0"
   ]
  }
 ],
 "metadata": {
  "kernelspec": {
   "display_name": "cellpose2",
   "language": "python",
   "name": "cellpose2"
  },
  "language_info": {
   "codemirror_mode": {
    "name": "ipython",
    "version": 3
   },
   "file_extension": ".py",
   "mimetype": "text/x-python",
   "name": "python",
   "nbconvert_exporter": "python",
   "pygments_lexer": "ipython3",
   "version": "3.8.19"
  }
 },
 "nbformat": 4,
 "nbformat_minor": 5
}
