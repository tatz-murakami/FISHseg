{
 "cells": [
  {
   "cell_type": "code",
   "execution_count": null,
   "id": "fb2dbbe1-0d62-454d-81c0-b89fc90d55c8",
   "metadata": {},
   "outputs": [],
   "source": [
    "import numpy as np\n",
    "import time, os, sys\n",
    "os.environ[\"CUDA_DEVICE_ORDER\"]=\"PCI_BUS_ID\"\n",
    "os.environ[\"CUDA_VISIBLE_DEVICES\"]=\"0\"\n",
    "\n",
    "\n",
    "from skimage import io\n",
    "import tqdm\n",
    "import napari\n",
    "import pandas as pd\n",
    "\n",
    "import zarr\n",
    "from dask import array as da\n",
    "\n",
    "import mFISHwarp.morphology\n",
    "\n",
    "from skimage.filters import threshold_otsu"
   ]
  },
  {
   "cell_type": "code",
   "execution_count": null,
   "id": "c659c5b8-4fae-454a-a24d-75a13389f04d",
   "metadata": {
    "tags": []
   },
   "outputs": [],
   "source": [
    "# image path\n",
    "sources = ['/mnt/ampa02_data01/tmurakami/240417_whole_4color_1st_M037-3pb/fused/fused.n5',\n",
    "          '/mnt/ampa02_data01/tmurakami/240425_whole_4color_2nd_M037-3pb/fused/fused.n5']\n",
    "\n",
    "voxel_size = (2.0,1.3,1.3)\n",
    "reference_chan = 3\n",
    "upper_percentile = 99\n",
    "lower_percentile = 30\n",
    "lookup = {}\n",
    "\n",
    "for n5_path in sources:\n",
    "    # create Zarr file object\n",
    "    img_zarr = zarr.open(store=zarr.N5Store(n5_path), mode='r')\n",
    "    n5_setups = list(img_zarr.keys())\n",
    "\n",
    "    img_down_ref = img_zarr[n5_setups[reference_chan]]['timepoint0']['s4'][:]\n",
    "    global_thresh = threshold_otsu(img_down_ref)\n",
    "    img_mask = mFISHwarp.morphology.mask_maker(img_down_ref,global_thresh)\n",
    "    sub_lookup = {}\n",
    "\n",
    "    for i, setup in enumerate(n5_setups):\n",
    "        img_down = img_zarr[setup]['timepoint0']['s4'][:]\n",
    "        # get values at the certain percentile within the mask\n",
    "        lower = np.percentile(img_down[np.where(img_mask)],lower_percentile)\n",
    "        upper = np.percentile(img_down[np.where(img_mask)],upper_percentile)\n",
    "        sub_lookup[i] = {'lower':lower,'upper':upper}\n",
    "\n",
    "\n",
    "    lookup[n5_path] = sub_lookup"
   ]
  },
  {
   "cell_type": "code",
   "execution_count": null,
   "id": "5f3c1c1e-b2d3-4d2c-a6f6-57de10415c02",
   "metadata": {},
   "outputs": [],
   "source": [
    "# import pickle\n",
    "# # open a file, where you ant to store the data\n",
    "# file = open('/mnt/ampa02_data01/tmurakami/model_training/norm_values.pkl', 'wb')\n",
    "# # dump information to that file\n",
    "# pickle.dump(lookup, file)\n",
    "# # close the file\n",
    "# file.close()\n",
    "\n",
    "# # open a file, where you stored the pickled data\n",
    "# file = open('/mnt/ampa02_data01/tmurakami/model_training/norm_values.pkl', 'rb')\n",
    "# # dump information to that file\n",
    "# data = pickle.load(file)\n",
    "# # close the file\n",
    "# file.close()"
   ]
  },
  {
   "cell_type": "code",
   "execution_count": null,
   "id": "e90081fb-4559-4979-92b4-2bbf2cff8761",
   "metadata": {
    "scrolled": true,
    "tags": []
   },
   "outputs": [],
   "source": [
    "# load information\n",
    "info_path = '/mnt/ampa02_data01/tmurakami/model_training/info.pkl'\n",
    "obj = pd.read_pickle(info_path)\n",
    "\n",
    "# image path\n",
    "save_path = '/mnt/ampa02_data01/tmurakami/model_training/crops'\n",
    "\n",
    "for i in range(obj.shape[0]):\n",
    "    print(i)\n",
    "    n5_path = obj.loc[i,'source']\n",
    "\n",
    "    # create Zarr file object\n",
    "    img_zarr = zarr.open(store=zarr.N5Store(n5_path), mode='r')\n",
    "\n",
    "    corner_positions = obj.loc[i,'corner']\n",
    "    crop_size = obj.loc[i,'crop_size']\n",
    "    segment_chan = obj.loc[i,'channel']\n",
    "    reference_chan = obj.loc[i,'ref_channel']\n",
    "    plane_position = int(obj.loc[i,'plane_position'])\n",
    "\n",
    "    # load images according to the input parameters.\n",
    "    n5_setups = list(img_zarr.keys())\n",
    "    img_ref = img_zarr[n5_setups[reference_chan]]['timepoint0']['s0']\n",
    "    img_ref_ = img_ref[tuple(slice(i,i+j) for i,j in zip(corner_positions, crop_size))][plane_position,...]\n",
    "    img_ref_norm = (img_ref_.astype(float) - lookup[n5_path][reference_chan]['lower']) / (lookup[n5_path][reference_chan]['upper'] - lookup[n5_path][reference_chan]['lower'])\n",
    "\n",
    "    img = img_zarr[n5_setups[segment_chan]]['timepoint0']['s0']\n",
    "    img_ = img[tuple(slice(i,i+j) for i,j in zip(corner_positions, crop_size))][plane_position,...]\n",
    "    img_norm = (img_.astype(float) - lookup[n5_path][segment_chan]['lower']) / (lookup[n5_path][segment_chan]['upper'] - lookup[n5_path][segment_chan]['lower'])\n",
    "\n",
    "\n",
    "    imgs = np.stack([img_ref_norm,img_norm])\n",
    "    prefix = str(i)\n",
    "    while len(prefix) < 4:\n",
    "        prefix = '0' + prefix\n",
    "        \n",
    "        \n",
    "    img_path = os.path.join(save_path, prefix+'_img_norm.tif')\n",
    "    io.imsave(img_path, imgs, plugin='tifffile', metadata={'axes': 'CYX'})"
   ]
  },
  {
   "cell_type": "code",
   "execution_count": null,
   "id": "5409b439-ceea-4459-85e6-db777483bbf9",
   "metadata": {},
   "outputs": [],
   "source": []
  }
 ],
 "metadata": {
  "kernelspec": {
   "display_name": "cellpose2",
   "language": "python",
   "name": "cellpose2"
  },
  "language_info": {
   "codemirror_mode": {
    "name": "ipython",
    "version": 3
   },
   "file_extension": ".py",
   "mimetype": "text/x-python",
   "name": "python",
   "nbconvert_exporter": "python",
   "pygments_lexer": "ipython3",
   "version": "3.8.19"
  }
 },
 "nbformat": 4,
 "nbformat_minor": 5
}
