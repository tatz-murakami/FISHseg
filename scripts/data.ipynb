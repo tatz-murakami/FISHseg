{
 "cells": [
  {
   "cell_type": "code",
   "execution_count": null,
   "id": "8d8cbe40-4b8a-4daa-9482-4f3a1be268ff",
   "metadata": {},
   "outputs": [],
   "source": [
    "import numpy as np\n",
    "from skimage import io\n",
    "\n",
    "import tqdm\n",
    "import napari\n",
    "import pandas as pd\n",
    "\n",
    "import zarr\n",
    "\n",
    "import os\n",
    "import pickle"
   ]
  },
  {
   "cell_type": "markdown",
   "id": "f820e5d1-a6ab-4900-a97e-967646eceded",
   "metadata": {},
   "source": [
    "### Make data for training\n",
    "Assume training data is double color. One for the channel and another for Cytosol/nuclei. \\\n",
    "N"
   ]
  },
  {
   "cell_type": "code",
   "execution_count": null,
   "id": "a3b40fd2-9e1b-4561-a547-677757e2370b",
   "metadata": {},
   "outputs": [],
   "source": [
    "# image path\n",
    "fix_n5_path = '/mnt/ampa02_data01/tmurakami/240417_whole_4color_1st_M037-3pb/fused/fused.n5' # zarr with pyramid resolution\n",
    "# save path\n",
    "save_path = '/mnt/ampa02_data01/tmurakami/240417_whole_4color_1st_M037-3pb/model_training/crops'\n",
    "# metadata path\n",
    "meta_path = '/mnt/ampa02_data01/tmurakami/240417_whole_4color_1st_M037-3pb/model_training/info.pkl'\n",
    "\n",
    "# create Zarr file object\n",
    "fix_zarr = zarr.open(store=zarr.N5Store(fix_n5_path), mode='r')\n",
    "# if you use ngff ome.zarr\n",
    "# mov_zarr_path = '/mnt/ampa02_data01/tmurakami/240417_whole_4color_1st_M037-3pb/registration/round02.zarr'\n",
    "# mov_zarr = zarr.open(mov_zarr_path, mode='r')\n",
    "\n",
    "n5_setups = list(fix_zarr.keys())\n",
    "\n",
    "voxel_size = (2.0,1.3,1.3)"
   ]
  },
  {
   "cell_type": "code",
   "execution_count": null,
   "id": "c4e51507-0a99-4f5d-b8e5-03b3ba5f07bd",
   "metadata": {},
   "outputs": [],
   "source": [
    "# set your parameters here\n",
    "reference_chan = 3 # Number or None\n",
    "segment_chan = 1\n",
    "\n",
    "corner_positions = [\n",
    "    [1235,2510,775],\n",
    "    [1325,3350,1543],\n",
    "    [1725,4632,1604],\n",
    "    [2262,6207,2682],\n",
    "    [1708,3877,2563]\n",
    "]\n",
    "\n",
    "crop_size = [100,100,100]"
   ]
  },
  {
   "cell_type": "code",
   "execution_count": null,
   "id": "a62f4fe5-a1db-46b2-b4b0-0e5b635b3f5b",
   "metadata": {
    "tags": []
   },
   "outputs": [],
   "source": [
    "if not os.path.exists(meta_path):\n",
    "    df = pd.DataFrame(columns=['ID', 'integer_ID', 'instance_counts', 'corner', 'source', 'ref_channel', 'channel', 'crop_size'])\n",
    "else:\n",
    "    df = pd.read_pickle(meta_path)\n",
    "\n",
    "for i, pos in enumerate(corner_positions):\n",
    "    idx = len(df)\n",
    "    \n",
    "    # find out any duplication between the current data and the metadata\n",
    "    # if it is duplicated, ask \n",
    "    flag = False\n",
    "    if df['corner'].isin([pos]).any():\n",
    "        for k in df['integer_ID'][df['corner'].isin([pos])].to_list():\n",
    "            if ((df.loc[k,'source'] == fix_n5_path) and \n",
    "                (df.loc[k,'ref_channel'] == reference_chan) and \n",
    "                (df.loc[k,'channel'] == segment_chan) and \n",
    "                (df.loc[k,'crop_size'] == crop_size)):\n",
    "                flag = True\n",
    "                idx = k\n",
    "    if flag:\n",
    "        ans = input(\"Do you want to re-analyze the data? y or n\")\n",
    "        if ans != 'y':\n",
    "            continue\n",
    "        \n",
    "    # set file path to be saved for both image and mask\n",
    "    prefix = str(idx)\n",
    "    while len(prefix) < 4:\n",
    "        prefix = '0' + prefix\n",
    "    img_path = os.path.join(save_path, prefix+'_img.tif')\n",
    "    mask_path = os.path.join(save_path, prefix+'_mask.tif')\n",
    "\n",
    "    # get the image of a reference of channel\n",
    "    img_crop_stack = []\n",
    "    if reference_chan is not None:\n",
    "        img = fix_zarr[n5_setups[reference_chan]]['timepoint0']['s0']\n",
    "        img_crop = img[tuple(slice(i,i+j) for i,j in zip(pos, crop_size))]\n",
    "        img_crop_stack.append(img_crop)\n",
    "\n",
    "    # get the image of a reference of channel\n",
    "    img = fix_zarr[n5_setups[segment_chan]]['timepoint0']['s0']\n",
    "    img_crop = img[tuple(slice(i,i+j) for i,j in zip(pos, crop_size))]\n",
    "    img_crop_stack.append(img_crop)\n",
    "\n",
    "    img_crop_stack = np.stack(img_crop_stack)\n",
    "\n",
    "    # open Napari. Pause for loop until close the window\n",
    "    viewer = napari.Viewer()\n",
    "    viewer.add_image(img_crop_stack, channel_axis=0, scale=voxel_size)\n",
    "    labels = viewer.add_labels(np.zeros_like(img_crop), name='segmentation', scale=voxel_size)\n",
    "    viewer.show(block=True)\n",
    "\n",
    "    # save images and segmentation.\n",
    "    img = np.swapaxes(img_crop_stack,0,1)\n",
    "    labels_img = labels.data\n",
    "    io.imsave(img_path, img, plugin='tifffile', imagej=True, metadata={'axes': 'ZCYX'})\n",
    "    io.imsave(mask_path, labels_img, plugin='tifffile')\n",
    "\n",
    "    # update the metadata\n",
    "    df.loc[idx,'ID'] = prefix\n",
    "    df.loc[idx,'integer_ID'] = idx\n",
    "    count = (np.unique(labels_img)).size - 1\n",
    "    df.loc[idx,'instance_counts'] = count\n",
    "    df.loc[idx,'corner'] = pos\n",
    "    df.loc[idx, 'source'] = fix_n5_path\n",
    "    df.loc[idx, 'ref_channel'] = reference_chan\n",
    "    df.loc[idx, 'channel'] = segment_chan\n",
    "    df.loc[idx, 'crop_size'] = crop_size\n",
    "\n",
    "df.to_pickle(meta_path)"
   ]
  },
  {
   "cell_type": "code",
   "execution_count": null,
   "id": "f328e311-4304-4fe6-a661-610e591feb21",
   "metadata": {},
   "outputs": [],
   "source": [
    "df"
   ]
  },
  {
   "cell_type": "code",
   "execution_count": null,
   "id": "e8b5b3f7-da64-4b7f-97c2-3713ad2d52bf",
   "metadata": {},
   "outputs": [],
   "source": []
  }
 ],
 "metadata": {
  "kernelspec": {
   "display_name": "cellpose",
   "language": "python",
   "name": "cellpose"
  },
  "language_info": {
   "codemirror_mode": {
    "name": "ipython",
    "version": 3
   },
   "file_extension": ".py",
   "mimetype": "text/x-python",
   "name": "python",
   "nbconvert_exporter": "python",
   "pygments_lexer": "ipython3",
   "version": "3.8.13"
  }
 },
 "nbformat": 4,
 "nbformat_minor": 5
}
