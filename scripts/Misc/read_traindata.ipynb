{
 "cells": [
  {
   "cell_type": "code",
   "execution_count": null,
   "id": "88c99e63-ba69-4674-845d-7e0731e61b49",
   "metadata": {},
   "outputs": [],
   "source": [
    "import numpy as np\n",
    "import os\n",
    "\n",
    "from skimage import io\n",
    "from tqdm import tqdm\n",
    "import napari\n",
    "import pandas as pd\n",
    "from skimage import exposure\n",
    "\n",
    "import zarr\n",
    "import dask.array as da\n",
    "\n",
    "import pywt\n",
    "\n",
    "from os import listdir\n",
    "from os.path import isfile, join\n",
    "import json\n",
    "\n",
    "import dask.array as da"
   ]
  },
  {
   "cell_type": "code",
   "execution_count": null,
   "id": "987cf76e-6cfe-44d0-a2d5-bec27a4855fc",
   "metadata": {},
   "outputs": [],
   "source": [
    "dataset_folder = '/mnt/ampa02_data01/tmurakami/model_training/crops'\n",
    "# files = [f for f in listdir(data_path) if isfile(join(data_path, f))]\n",
    "\n",
    "datacard_path = \"/mnt/ampa02_data01/tmurakami/model_training/tatz_datacard02.json\"\n",
    "# open datacard\n",
    "with open(datacard_path) as f:\n",
    "    datacard = json.load(f)\n",
    "    \n",
    "# metadata path\n",
    "meta_path = '/mnt/ampa02_data01/tmurakami/model_training/info.pkl'\n",
    "df = pd.read_pickle(meta_path)\n",
    "\n",
    "my_save_path = ''\n",
    "\n",
    "save_path = dataset_folder\n",
    "\n",
    "test_img_prefix = [i['img'][:4] for i in datacard['datasets']['test']]\n",
    "train_img_prefix = [i['img'][:4] for i in datacard['datasets']['train']]"
   ]
  },
  {
   "cell_type": "code",
   "execution_count": null,
   "id": "28a23dde-5cc1-4908-9f8b-0a99eb2c9922",
   "metadata": {},
   "outputs": [],
   "source": [
    "# df.shape[0]\n",
    "for i in range(df.shape[0]):\n",
    "    dat = df.iloc[i,:]\n",
    "\n",
    "    # image path\n",
    "    fix_n5_path = dat['source'] # /mnt/ampa02_data01/tmurakami/240417_whole_4color_1st_M037-3pb/fused/fused.n5'\n",
    "\n",
    "    # create Zarr file object\n",
    "    fix_zarr = zarr.open(store=zarr.N5Store(fix_n5_path), mode='r')\n",
    "    n5_setups = list(fix_zarr.keys())\n",
    "    voxel_size = (2.0,1.3,1.3)\n",
    "\n",
    "    # set your parameters here\n",
    "    reference_chan = dat['ref_channel'] # Integer or None\n",
    "    segment_chan = dat['channel']\n",
    "\n",
    "    crop_size = dat['crop_size']\n",
    "    pos = dat['corner']\n",
    "    prefix = dat['ID']\n",
    "    \n",
    "    if prefix in train_img_prefix:\n",
    "        continue\n",
    "    plane_position = int(dat['plane_position'])\n",
    "\n",
    "    FoV = [100,768,768]\n",
    "\n",
    "    mask_path = os.path.join(save_path, prefix+'_mask.tif')\n",
    "\n",
    "    img = da.from_zarr(fix_zarr[n5_setups[segment_chan]]['timepoint0']['s0'])\n",
    "    img_ref = da.from_zarr(fix_zarr[n5_setups[reference_chan]]['timepoint0']['s0'])\n",
    "\n",
    "    # set the corner of FoV in napari\n",
    "    top_corner = tuple(i-(k-j)//2 for i,j,k in zip(pos, crop_size, FoV))\n",
    "    bottom_corner = tuple(i+j+(k-j)//2 for i,j,k in zip(pos, crop_size, FoV))\n",
    "    top_corner = tuple(j if j>=i else i for i,j in zip([0,0,0],top_corner))\n",
    "    bottom_corner = tuple(j if j<=i else i for i,j in zip(img.shape,bottom_corner))\n",
    "    \n",
    "    # prepare to make border lines\n",
    "    top_border_corner = tuple((k-j)//2 for j,k in zip(crop_size, FoV))\n",
    "    bottom_border_corner = tuple(j+(k-j)//2 for j,k in zip(crop_size, FoV))\n",
    "\n",
    "    FoV_segment = img[tuple(slice(i,j) for i,j in zip(top_corner, bottom_corner))]\n",
    "    FoV_reference = img_ref[tuple(slice(i,j) for i,j in zip(top_corner, bottom_corner))]\n",
    "\n",
    "\n",
    "    # make labeling data\n",
    "    labels = np.zeros_like(FoV_reference)\n",
    "    label_plane = io.imread(mask_path)\n",
    "    label_shape = label_plane.shape\n",
    "    label_top_corner = [(i-j) // 2 for i,j in zip(FoV[1:],crop_size[1:])]\n",
    "    slicer = (plane_position,) + tuple(slice(i,i+j,None) for i,j in zip(label_top_corner, label_shape))\n",
    "    labels[slicer] = label_plane\n",
    "\n",
    "    # napari browsing\n",
    "    viewer = napari.Viewer()\n",
    "    viewer.add_image(FoV_reference, scale=voxel_size, contrast_limits=[0,10000],blending='additive', visible=False)\n",
    "    viewer.add_shapes([[bottom_border_corner[1]*voxel_size[1],bottom_border_corner[2]*voxel_size[2]],[top_border_corner[1]*voxel_size[1],bottom_border_corner[2]*voxel_size[2]]],\n",
    "                      edge_width=2,edge_color='white',ndim=2,shape_type='line')\n",
    "    viewer.add_shapes([[top_border_corner[1]*voxel_size[1],bottom_border_corner[2]*voxel_size[2]],[top_border_corner[1]*voxel_size[1],top_border_corner[2]*voxel_size[2]]],\n",
    "                  edge_width=2,edge_color='white',ndim=2,shape_type='line')\n",
    "    viewer.add_shapes([[bottom_border_corner[1]*voxel_size[1],bottom_border_corner[2]*voxel_size[2]],[bottom_border_corner[1]*voxel_size[1],top_border_corner[2]*voxel_size[2]]],\n",
    "                  edge_width=2,edge_color='white',ndim=2,shape_type='line')\n",
    "    viewer.add_shapes([[bottom_border_corner[1]*voxel_size[1],top_border_corner[2]*voxel_size[2]],[top_border_corner[1]*voxel_size[1],top_border_corner[2]*voxel_size[2]]],\n",
    "                  edge_width=2,edge_color='white',ndim=2,shape_type='line')\n",
    "\n",
    "    viewer.add_labels(labels, scale=voxel_size,blending='additive')\n",
    "    viewer.add_image(FoV_segment, scale=voxel_size, contrast_limits=[0,10000],blending='additive')\n",
    "\n",
    "    # viewer.dims.set_point(axis=0, value=plane_position)\n",
    "    viewer.dims.set_current_step(axis=0, value=plane_position)\n",
    "    viewer.show(block=True)\n",
    "\n",
    "    print(i)"
   ]
  },
  {
   "cell_type": "code",
   "execution_count": null,
   "id": "f97dc3ad-31e0-4df4-b647-29f61096b8ea",
   "metadata": {},
   "outputs": [],
   "source": [
    "img = []\n",
    "img_norm = []\n",
    "mask = []\n",
    "for train_data in datacard['datasets']['train']: \n",
    "    for key in train_data.keys():\n",
    "        source = os.path.join(dataset_folder, train_data[key])\n",
    "        if os.path.isfile(source):\n",
    "            if key == 'img':\n",
    "                img.append(io.imread(source)[1])\n",
    "            elif key == 'img_norm':\n",
    "                img_norm.append(io.imread(source)[1])\n",
    "            elif key == 'label':\n",
    "                mask.append(io.imread(source))"
   ]
  },
  {
   "cell_type": "code",
   "execution_count": null,
   "id": "362dc95a-5315-4736-9588-7136e18a48e9",
   "metadata": {},
   "outputs": [],
   "source": [
    "const = -25\n",
    "img = np.stack(img[:const])\n",
    "img_norm = np.stack(img_norm[:const])\n",
    "mask = np.stack(mask[:const])"
   ]
  },
  {
   "cell_type": "code",
   "execution_count": null,
   "id": "9fa78851-2f54-41e9-a1f5-b3fb116d56c0",
   "metadata": {},
   "outputs": [],
   "source": [
    "viewer = napari.Viewer()\n",
    "viewer.add_image(img, name='original', contrast_limits=[100,20000], blending='additive')\n",
    "viewer.add_image(img_norm, name='image01', contrast_limits=[0,2], blending='additive')\n",
    "viewer.add_labels(mask)"
   ]
  },
  {
   "cell_type": "code",
   "execution_count": null,
   "id": "22f19769-ec20-4726-867e-899b276b7b01",
   "metadata": {},
   "outputs": [],
   "source": [
    "# load information\n",
    "info_path = '/mnt/ampa02_data01/tmurakami/model_training/info.pkl'"
   ]
  },
  {
   "cell_type": "code",
   "execution_count": null,
   "id": "23ed886c-db25-4032-ac63-b8e235829d35",
   "metadata": {},
   "outputs": [],
   "source": [
    "pd.read_pickle(info_path).iloc[68,:]"
   ]
  },
  {
   "cell_type": "code",
   "execution_count": null,
   "id": "f1dd3ad4-3efe-4bc8-849d-a24cf5aeeec9",
   "metadata": {},
   "outputs": [],
   "source": [
    "datacard['datasets']['train'][14]"
   ]
  },
  {
   "cell_type": "code",
   "execution_count": null,
   "id": "3d34281b-8682-47ae-a927-ac80106e4a88",
   "metadata": {},
   "outputs": [],
   "source": []
  }
 ],
 "metadata": {
  "kernelspec": {
   "display_name": "cellpose2",
   "language": "python",
   "name": "cellpose2"
  },
  "language_info": {
   "codemirror_mode": {
    "name": "ipython",
    "version": 3
   },
   "file_extension": ".py",
   "mimetype": "text/x-python",
   "name": "python",
   "nbconvert_exporter": "python",
   "pygments_lexer": "ipython3",
   "version": "3.8.19"
  }
 },
 "nbformat": 4,
 "nbformat_minor": 5
}
