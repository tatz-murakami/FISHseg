{
 "cells": [
  {
   "cell_type": "code",
   "execution_count": null,
   "id": "48ba9c3c-2485-40a2-8ae3-6adecce6f76a",
   "metadata": {},
   "outputs": [],
   "source": [
    "import numpy as np\n",
    "import os\n",
    "\n",
    "import zarr\n",
    "\n",
    "import dask\n",
    "from dask import array as da\n",
    "\n",
    "import mFISHwarp.utils\n",
    "import mFISHwarp.distributed_segmentation"
   ]
  },
  {
   "cell_type": "code",
   "execution_count": null,
   "id": "d4ce0740-2357-4219-bea9-20ad581b7dd2",
   "metadata": {
    "tags": []
   },
   "outputs": [],
   "source": [
    "from dask.distributed import Client\n",
    "client = Client(n_workers=1, threads_per_worker=1, dashboard_address='localhost:8787') # https://docs.dask.org/en/latest/how-to/deploy-dask/single-distributed.html\n",
    "client"
   ]
  },
  {
   "cell_type": "code",
   "execution_count": null,
   "id": "bdd3ae25-076a-40ae-ade5-37e467417b2a",
   "metadata": {},
   "outputs": [],
   "source": [
    "# make small dataset for test\n",
    "outprefix = '/mnt/ampa02_data01/tmurakami/240417_whole_4color_1st_M037-3pb/segmentation'\n",
    "segment_overlap = da.from_zarr(os.path.join(outprefix,'segmented_overlap.zarr'))\n",
    "label_zarr = os.path.join(outprefix,'segmented_fused.zarr')"
   ]
  },
  {
   "cell_type": "code",
   "execution_count": null,
   "id": "aa8be937-2179-47ea-aa8d-bae58c5ce6c7",
   "metadata": {},
   "outputs": [],
   "source": [
    "# if the overlap is (32,64,64), trim overlap (16,32,32) and fuse with diameter (16,32,32).\n",
    "segment_overlap = da.overlap.trim_overlap(segment_overlap,depth=(16,32,32),boundary='reflect')\n",
    "segment_overlap"
   ]
  },
  {
   "cell_type": "code",
   "execution_count": null,
   "id": "5832e08b-49a1-4f70-ac8a-d2777420d2d6",
   "metadata": {},
   "outputs": [],
   "source": [
    "diameter = (16,32,32)\n",
    "#image = da.asarray(image)\n",
    "depth = tuple(np.ceil(diameter).astype(np.int64))\n",
    "boundary = \"reflect\"\n",
    "iou_depth=2\n",
    "iou_threshold=0.7\n",
    "block_iter = mFISHwarp.utils.get_block_iter(segment_overlap)\n",
    "\n",
    "labeled_blocks = np.empty(segment_overlap.numblocks, dtype=object)\n",
    "\n",
    "total = None\n",
    "for index, input_block in block_iter:\n",
    "    labeled_block = input_block #.astype(np.int64)\n",
    "    n = input_block.max()\n",
    "\n",
    "    n = dask.delayed(np.int32)(n)\n",
    "    n = da.from_delayed(n, shape=(), dtype=np.int32)\n",
    "\n",
    "    total = n if total is None else total + n\n",
    "\n",
    "    block_label_offset = da.where(labeled_block > 0, total, np.int32(0))\n",
    "    labeled_block += block_label_offset\n",
    "\n",
    "    labeled_blocks[index] = labeled_block\n",
    "    total += n\n",
    "\n",
    "# Put all the blocks together\n",
    "block_labeled = da.block(labeled_blocks.tolist())\n",
    "\n",
    "depth = da.overlap.coerce_depth(len(depth), depth)\n",
    "\n",
    "if np.prod(block_labeled.numblocks) > 1:\n",
    "    iou_depth = da.overlap.coerce_depth(len(depth), iou_depth)\n",
    "\n",
    "    if any(iou_depth[ax] > depth[ax] for ax in depth.keys()):\n",
    "        raise DistSegError(\"iou_depth (%s) > depth (%s)\" % (iou_depth, depth))\n",
    "\n",
    "    trim_depth = {k: depth[k] - iou_depth[k] for k in depth.keys()}\n",
    "    block_labeled = da.overlap.trim_internal(\n",
    "        block_labeled, trim_depth, boundary=boundary\n",
    "    )\n",
    "    block_labeled = mFISHwarp.distributed_segmentation.link_labels(\n",
    "        block_labeled,\n",
    "        total,\n",
    "        iou_depth,\n",
    "        iou_threshold=iou_threshold,\n",
    "    )\n",
    "\n",
    "    block_labeled = da.overlap.trim_internal(\n",
    "        block_labeled, iou_depth, boundary=boundary\n",
    "    )\n",
    "\n",
    "else:\n",
    "    block_labeled = da.overlap.trim_internal(\n",
    "        block_labeled, depth, boundary=boundary\n",
    "    )"
   ]
  },
  {
   "cell_type": "code",
   "execution_count": null,
   "id": "6cdc4fff-3d8f-4c60-8b5b-6c856ad80160",
   "metadata": {
    "tags": []
   },
   "outputs": [],
   "source": [
    "### Warning. This takes a lot of ram space and disk space for spilling. \n",
    "# There is not way to mitigate this because the re-labeling requires all information in one hand. \n",
    "# Unless we have better format other than labeling image (such as YOLO json in 3D), we have to accept this wierd process.\n",
    "block_labeled.to_zarr(label_zarr)"
   ]
  },
  {
   "cell_type": "markdown",
   "id": "9aa6982d-4cb4-493a-9b06-5580974116b7",
   "metadata": {},
   "source": [
    "### Optional pyramid formatting"
   ]
  },
  {
   "cell_type": "code",
   "execution_count": null,
   "id": "ee421ac6-0a21-49f1-8604-35cde4e66678",
   "metadata": {},
   "outputs": [],
   "source": [
    "# I found ome-ngff format is not well suited for labeled ID images (to be tested)? Just simply save in zarr.\n",
    "label =  da.from_zarr(label_zarr)\n",
    "chunk_size = (256,256,256)\n",
    "label = da.rechunk(label,chunk_size)"
   ]
  },
  {
   "cell_type": "code",
   "execution_count": null,
   "id": "bc3dd6af-c355-4710-a819-31ddd1ef8240",
   "metadata": {},
   "outputs": [],
   "source": [
    "def save_pyramid(img, file_name_base, iteration=5, chunk_size=(256,256,256), down_scale=2):\n",
    "    \"\"\"\n",
    "    img: dask array\n",
    "    \"\"\"\n",
    "    # save initial resolution\n",
    "    img = da.rechunk(img,chunk_size)\n",
    "    da.to_zarr(img, os.path.join(file_name_base,str(0)))\n",
    "\n",
    "    # save downsampled resolution\n",
    "    for i in range(iteration):\n",
    "        img = da.from_zarr(os.path.join(file_name_base,str(i)))\n",
    "        down_img = img[::down_scale,::down_scale,::down_scale]\n",
    "        down_img = da.rechunk(down_img,chunk_size)\n",
    "        da.to_zarr(down_img, os.path.join(file_name_base,str(i+1)))\n",
    "        print('done:' + str(i+1))"
   ]
  },
  {
   "cell_type": "code",
   "execution_count": null,
   "id": "ab117c60-d2a7-4048-ad3f-33c91cb00045",
   "metadata": {},
   "outputs": [],
   "source": [
    "dest_name = os.path.join(outprefix,'segmented_pyramid.zarr')\n",
    "root = zarr.open_group(dest_name, mode='w')\n",
    "save_pyramid(label,dest_name)"
   ]
  },
  {
   "cell_type": "code",
   "execution_count": null,
   "id": "f0d0059d-cb63-4f11-bcc8-c9b53485c644",
   "metadata": {},
   "outputs": [],
   "source": [
    "#"
   ]
  }
 ],
 "metadata": {
  "kernelspec": {
   "display_name": "cellpose2",
   "language": "python",
   "name": "cellpose2"
  },
  "language_info": {
   "codemirror_mode": {
    "name": "ipython",
    "version": 3
   },
   "file_extension": ".py",
   "mimetype": "text/x-python",
   "name": "python",
   "nbconvert_exporter": "python",
   "pygments_lexer": "ipython3",
   "version": "3.8.19"
  }
 },
 "nbformat": 4,
 "nbformat_minor": 5
}
