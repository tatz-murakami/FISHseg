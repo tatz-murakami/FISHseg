{
 "cells": [
  {
   "cell_type": "code",
   "execution_count": 1,
   "id": "79e0e8b2-e27a-4bf9-8a7c-16c93b36f96b",
   "metadata": {},
   "outputs": [
    {
     "name": "stdout",
     "output_type": "stream",
     "text": [
      ">>> GPU activated? 1\n"
     ]
    }
   ],
   "source": [
    "import numpy as np\n",
    "import time, os, sys\n",
    "os.environ[\"CUDA_DEVICE_ORDER\"]=\"PCI_BUS_ID\"\n",
    "os.environ[\"CUDA_VISIBLE_DEVICES\"]=\"1\"\n",
    "\n",
    "from cellpose import models, core\n",
    "\n",
    "use_GPU = core.use_gpu()\n",
    "print('>>> GPU activated? %d'%use_GPU)\n",
    "\n",
    "# call logger_setup to have output of cellpose written\n",
    "from cellpose.io import logger_setup\n",
    "from cellpose import utils\n",
    "\n",
    "import random\n",
    "from skimage import io\n",
    "import tqdm\n",
    "import napari\n",
    "import pandas as pd\n",
    "import mFISH3D\n",
    "import mFISH3D.segment\n",
    "\n",
    "import zarr\n",
    "from dask import array as da"
   ]
  },
  {
   "cell_type": "code",
   "execution_count": 2,
   "id": "6d094e22-e6ad-40ae-8600-fc3752461f71",
   "metadata": {},
   "outputs": [],
   "source": [
    "# path to dataset and model\n",
    "dataset_folder = \"/mnt/ampa_data01/tmurakami/conf_proc/human_ish_training_dataset/slc17a7_double\"\n",
    "train_folder = os.path.join(dataset_folder,'training')\n",
    "\n",
    "models_path = os.path.join(train_folder,'models')\n",
    "models_file = os.listdir(models_path); models_file.sort()\n",
    "model_path = os.path.join(train_folder,'models',models_file[-1])\n",
    "\n",
    "model = models.CellposeModel(gpu=use_GPU, pretrained_model=model_path, net_avg=False) \n",
    "#torch=True, diam_mean=10, do_3D=True, net_avg=True, device=None, residual_on=True, style_on=True, concatenation=False)"
   ]
  },
  {
   "cell_type": "code",
   "execution_count": 3,
   "id": "d2ace229-6184-4c4e-acbb-f481533804b0",
   "metadata": {},
   "outputs": [],
   "source": [
    "# load validation data\n",
    "zarr_paths = ['/mnt/ampa_data01/tmurakami/220806_visual_02_R01/ch640.zarr', '/mnt/ampa_data01/tmurakami/220806_visual_02_R01/ch488.zarr']\n",
    "pyramids = []\n",
    "\n",
    "viewer = napari.Viewer()\n",
    "for zarr_path in zarr_paths:\n",
    "    img_zarr = zarr.open(zarr_path, mode='r')\n",
    "    pyramid = [da.from_zarr(img_zarr[i]) for i in range(0,5)]\n",
    "    viewer.add_image(pyramid, contrast_limits=[0,10000], rgb=False, name='img', colormap='gray', blending='additive', multiscale=True)\n",
    "    pyramids.append(pyramid)"
   ]
  },
  {
   "cell_type": "code",
   "execution_count": 12,
   "id": "63679838-8d9e-4b35-b3d0-b5a7df9a9920",
   "metadata": {
    "tags": []
   },
   "outputs": [
    {
     "data": {
      "text/plain": [
       "<Image layer 'image03' at 0x7f4d0e3aa850>"
      ]
     },
     "execution_count": 12,
     "metadata": {},
     "output_type": "execute_result"
    }
   ],
   "source": [
    "# set data range for analysis\n",
    "#img_3D = io.imread('/mnt/ampa_data01/tmurakami/conf_proc/human_ish_training_dataset/validation/slc17a7_02.tif')\n",
    "depth = 256\n",
    "width = 256\n",
    "(z, y, x) = (623,4346,3911)#(636,3546,4376)#(636,3558,6352)   #(629,2752,2068)#(629,3860,5662)#(629,3832,3030)#  #(636,5177,5345)#\n",
    "# img_3D = img_da[z:z+depth,y:y+width,x:x+width].compute()\n",
    "img_3D = []\n",
    "for pyramid in pyramids:\n",
    "    img_3D.append(pyramid[0][z:z+depth,y:y+width,x:x+width].compute())\n",
    "\n",
    "img_3D = np.asarray(img_3D)\n",
    "img_3D = np.moveaxis(img_3D, 0, -1)\n",
    "img_3D = np.pad(img_3D, ((0, 0), (0, 0), (0, 0), (0, 3-len(pyramids))), 'constant')\n",
    "\n",
    "my_img_3D_norm = np.zeros(img_3D.shape, dtype=float)\n",
    "for i in range(len(zarr_paths)):\n",
    "    my_img_3D_norm[...,i] = mFISH3D.segment.gpu_percentile_normalization(img_3D[...,i], footprint=np.ones((1,50,50)))\n",
    "viewer = napari.Viewer()\n",
    "viewer.add_image(img_3D[...,0], rgb=False, name='image01' , colormap='gray' ,blending='additive')\n",
    "viewer.add_image(my_img_3D_norm, rgb=True, name='image02' , colormap='gray' ,blending='additive')\n",
    "viewer.add_image(my_img_3D_norm[...,0], rgb=False, name='image03' , colormap='gray' ,blending='additive')"
   ]
  },
  {
   "cell_type": "code",
   "execution_count": 13,
   "id": "27401dd7-c7c8-405d-99fe-9c68df87b49f",
   "metadata": {},
   "outputs": [
    {
     "name": "stdout",
     "output_type": "stream",
     "text": [
      "Start the first segmentation.\n",
      "Start the local normalization.\n",
      "Start the second segmentation.\n",
      "CPU times: user 3min 12s, sys: 52.3 s, total: 4min 5s\n",
      "Wall time: 2min 14s\n"
     ]
    }
   ],
   "source": [
    "%%time\n",
    "# the initial segmentation for local normalization. This is performed section by section.\n",
    "# for the faster segmentation, adjust diameter. The larger the faster.\n",
    "print('Start the first segmentation.')\n",
    "pre_masks, _, _ = model.eval(img_3D, channels=[1,2], z_axis=0, do_3D=False, min_size=100, cellprob_threshold=0.0, stitch_threshold=0.3, tile=False)\n",
    "\n",
    "\n",
    "print('Start the local normalization.')\n",
    "img_3D_norm = np.zeros(img_3D.shape,dtype=float)\n",
    "for i in range(len(zarr_paths)):\n",
    "    img_single = img_3D[...,i]\n",
    "    # get local max\n",
    "    interpolator = mFISH3D.segment.get_cellular_intensity_interpolator(pre_masks,img_single)\n",
    "    local_max = mFISH3D.segment.local_max_with_interpolator(interpolator,img_single.shape)\n",
    "\n",
    "    # normalize using local max before second segmentation\n",
    "    img_3D_norm[...,i] = mFISH3D.segment.gpu_percentile_normalization(img_single, footprint=np.ones((1,5,100)), img_high=local_max)\n",
    "\n",
    "\n",
    "print('Start the second segmentation.')\n",
    "# the second segmentation. do_3D = True.\n",
    "masks, flows, styles = model.eval(img_3D_norm, channels=[1,2], z_axis=0, diameter=10, do_3D=True, min_size=100, cellprob_threshold=0.0, tile=False)\n"
   ]
  },
  {
   "cell_type": "code",
   "execution_count": 14,
   "id": "91a42b4c-b5a8-475a-93d4-42a9a5d181c3",
   "metadata": {
    "tags": []
   },
   "outputs": [
    {
     "data": {
      "text/plain": [
       "<Labels layer 'masks' at 0x7f4cdba63fa0>"
      ]
     },
     "execution_count": 14,
     "metadata": {},
     "output_type": "execute_result"
    }
   ],
   "source": [
    "viewer = napari.Viewer()\n",
    "viewer.add_image(img_3D[...,0], rgb=False, name='image01' , colormap='magenta' ,blending='additive')\n",
    "viewer.add_image(img_3D[...,1], rgb=False, name='image02' , colormap='green' ,blending='additive')\n",
    "viewer.add_labels(pre_masks)\n",
    "viewer.add_labels(masks)"
   ]
  },
  {
   "cell_type": "code",
   "execution_count": null,
   "id": "4cc51693-9fcd-400d-a0d8-bbb907db57d8",
   "metadata": {},
   "outputs": [],
   "source": []
  }
 ],
 "metadata": {
  "kernelspec": {
   "display_name": "cellpose",
   "language": "python",
   "name": "cellpose"
  },
  "language_info": {
   "codemirror_mode": {
    "name": "ipython",
    "version": 3
   },
   "file_extension": ".py",
   "mimetype": "text/x-python",
   "name": "python",
   "nbconvert_exporter": "python",
   "pygments_lexer": "ipython3",
   "version": "3.8.13"
  }
 },
 "nbformat": 4,
 "nbformat_minor": 5
}
