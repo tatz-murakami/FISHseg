{
 "cells": [
  {
   "cell_type": "code",
   "execution_count": null,
   "id": "79e0e8b2-e27a-4bf9-8a7c-16c93b36f96b",
   "metadata": {
    "tags": []
   },
   "outputs": [],
   "source": [
    "import numpy as np\n",
    "import time, os, sys\n",
    "os.environ[\"CUDA_DEVICE_ORDER\"]=\"PCI_BUS_ID\"\n",
    "os.environ[\"CUDA_VISIBLE_DEVICES\"]=\"0\"\n",
    "\n",
    "from cellpose import models, core\n",
    "\n",
    "use_GPU = core.use_gpu()\n",
    "print('>>> GPU activated? %d'%use_GPU)\n",
    "\n",
    "# call logger_setup to have output of cellpose written\n",
    "from cellpose.io import logger_setup\n",
    "from cellpose import utils\n",
    "\n",
    "from skimage import io\n",
    "import pandas as pd\n",
    "\n",
    "import zarr\n",
    "import napari\n",
    "\n",
    "import json\n",
    "import shutil"
   ]
  },
  {
   "cell_type": "code",
   "execution_count": null,
   "id": "4736c157-37d4-417d-876a-ac2c5721e065",
   "metadata": {},
   "outputs": [],
   "source": [
    "def get_file_prefix(directory,postfix):\n",
    "    files = os.listdir(directory)\n",
    "    files.sort()\n",
    "    files = pd.Series(files)\n",
    "    selected_files = files[files.str.contains(postfix)]\n",
    "    prefixes = selected_files.str.split(postfix,expand=True)[0].to_list()\n",
    "    \n",
    "    return prefixes\n",
    "\n",
    "def augmenter(x):\n",
    "    \"\"\"\n",
    "    Augmentation of a single input/label image pair. 90rot, 180rot, 270rot, flip, flip90rot, flip180rot, flip270rot will be generated\n",
    "    x is an input image\n",
    "    \"\"\"\n",
    "    # Note that we only use fliprots along axis=(1,2), i.e. the yx axis \n",
    "    # as 3D microscopy acquisitions are usually not axially symmetric\n",
    "    x90rot = np.rot90(x)\n",
    "    x180rot = np.rot90(x90rot)\n",
    "    x270rot = np.rot90(x180rot)\n",
    "    xflip = np.flip(x)\n",
    "    xflip90rot = np.rot90(xflip)\n",
    "    xflip180rot = np.rot90(xflip90rot)\n",
    "    xflip270rot = np.rot90(xflip180rot)\n",
    "    \n",
    "    return (x90rot, x180rot, x270rot, xflip, xflip90rot, xflip180rot, xflip270rot)\n",
    "\n",
    "def add_last_size_to3(array, size=3):\n",
    "    \"\"\"\n",
    "    add the size of the last dimension up to 3. Otherwise Cellpose looks get confused.\n",
    "    \"\"\"\n",
    "    if array.shape[-1] <3:\n",
    "        array = np.pad(array, ((0, 0), (0, 0), (0, size-array.shape[-1])), 'constant' ,constant_values=0)\n",
    "        return array\n",
    "    else:\n",
    "        return array"
   ]
  },
  {
   "cell_type": "code",
   "execution_count": null,
   "id": "1cb39811-c61e-43a9-abf2-844efc44c0de",
   "metadata": {},
   "outputs": [],
   "source": [
    "# path to dataset and datacards\n",
    "dataset_folder = \"/mnt/ampa02_data01/tmurakami/model_training/trial_only_cells\"\n",
    "datacard_path = \"/mnt/ampa02_data01/tmurakami/model_training/tatz_datacard.json\"\n",
    "\n",
    "# other parameters for training.\n",
    "number_of_epochs =  5000\n",
    "\n",
    "Training_channel = 2 # I do not know but the cellpose see the images as KRGB. If the color is green, set it to 2.\n",
    "Second_training_channel = 1\n",
    "\n",
    "batch_size =  8\n",
    "initial_learning_rate = 0.0002\n",
    "\n",
    "pre_norm = True\n",
    "\n",
    "# set pretrained model if there is any \n",
    "model_to_load = None \n",
    "diameter = 10 # diameter is a very important hyperparameter, which could affect both the speed and accuracy. You can leave here None, but highly recommended to add value here. \n",
    "min_train_masks = 0 # set here to zero to teach what is not the cells\n",
    "\n",
    "\n",
    "if pre_norm:\n",
    "    img_postfix = 'img_norm'\n",
    "else:\n",
    "    img_postfix = 'img'\n",
    "mask_postfix = 'mask'\n",
    "extension = '.tif'\n",
    "\n",
    "# open datacard\n",
    "with open(datacard_path) as f:\n",
    "    datacard = json.load(f)"
   ]
  },
  {
   "cell_type": "code",
   "execution_count": null,
   "id": "3a4d6850-51f4-4a64-ba33-4c3550f2a367",
   "metadata": {},
   "outputs": [],
   "source": [
    "### seperate training and test datasets according to the datacard\n",
    "# make folders to save traning and test dataset\n",
    "train_dir_name = 'training'\n",
    "test_dir_name = 'test'\n",
    "train_folder = os.path.join(dataset_folder, train_dir_name)\n",
    "test_folder = os.path.join(dataset_folder, test_dir_name)\n",
    "\n",
    "if not os.path.isdir(train_folder):\n",
    "    os.makedirs(train_folder)\n",
    "if not os.path.isdir(test_folder):\n",
    "    os.makedirs(test_folder)\n"
   ]
  },
  {
   "cell_type": "code",
   "execution_count": null,
   "id": "543f9fde-a4de-4424-ad4c-47f34833b9d5",
   "metadata": {
    "tags": []
   },
   "outputs": [],
   "source": [
    "for train_data in datacard['datasets']['train']:\n",
    "    for key in train_data.keys():\n",
    "        source = os.path.join(dataset_folder, train_data[key])\n",
    "        destination = os.path.join(train_folder, train_data[key])\n",
    "        if os.path.isfile(source):\n",
    "            shutil.copyfile(source, destination)\n",
    "            # os.rename(source,destination)\n",
    "    \n",
    "for test_data in datacard['datasets']['test']:\n",
    "    for key in test_data.keys():\n",
    "        source = os.path.join(dataset_folder, test_data[key])\n",
    "        destination = os.path.join(test_folder, test_data[key])\n",
    "        if os.path.isfile(source):\n",
    "            shutil.copyfile(source, destination)\n",
    "            # os.rename(source,destination)"
   ]
  },
  {
   "cell_type": "code",
   "execution_count": null,
   "id": "70385aeb-97bc-4285-8860-91bddba86144",
   "metadata": {
    "tags": []
   },
   "outputs": [],
   "source": [
    "### data augmentation\n",
    "# make augmented in training dir\n",
    "for train_data in datacard['datasets']['train']:\n",
    "    for key in train_data.keys():\n",
    "        source = os.path.join(train_folder, train_data[key])\n",
    "        if os.path.isfile(source):\n",
    "            filename, file_extension = os.path.splitext(source)\n",
    "            base = os.path.basename(source)\n",
    "            pardir = os.path.dirname(source)\n",
    "            if key == \"img\" or key == \"img_norm\":\n",
    "                x = np.moveaxis(io.imread(source),0,-1)\n",
    "                x = add_last_size_to3(x,3)\n",
    "                x_args = augmenter(x)\n",
    "                for i, x_arg in enumerate(x_args):\n",
    "                    name = os.path.join(train_folder,base[:4]+\"_\"+str(i)+\"_\"+ key + file_extension)\n",
    "                    io.imsave(name, x_arg, check_contrast=False)\n",
    "            if key == \"label\":\n",
    "                y = io.imread(source)\n",
    "                y_args = augmenter(y)\n",
    "                for i, y_arg in enumerate(y_args):\n",
    "                    name = os.path.join(train_folder,base[:4]+\"_\"+str(i)+\"_\"+ \"mask\" + file_extension)\n",
    "                    io.imsave(name, y_arg, check_contrast=False)"
   ]
  },
  {
   "cell_type": "code",
   "execution_count": null,
   "id": "bfcd4282-0bcb-4547-9085-850dfaaec0df",
   "metadata": {
    "tags": []
   },
   "outputs": [],
   "source": [
    "### run the training\n",
    "if pre_norm:\n",
    "    # no_norm with diameter parameter\n",
    "    !/home/tmurakami/app/miniconda3/envs/cellpose/bin/python -m cellpose --train --use_gpu --dir $train_folder --test_dir $test_folder --pretrained_model $model_to_load --diam_mean $diameter --chan $Training_channel --chan2 $Second_training_channel --n_epochs $number_of_epochs --learning_rate $initial_learning_rate --batch_size $batch_size --img_filter $img_postfix --mask_filter $mask_postfix  --verbose --min_train_masks $min_train_masks --no_norm\n",
    "else:\n",
    "    # with diameter parameter\n",
    "    !/home/tmurakami/app/miniconda3/envs/cellpose/bin/python -m cellpose --train --use_gpu --dir $train_folder --test_dir $test_folder --pretrained_model $model_to_load --diam_mean $diameter --chan $Training_channel --chan2 $Second_training_channel --n_epochs $number_of_epochs --learning_rate $initial_learning_rate --batch_size $batch_size --img_filter $img_postfix --mask_filter $mask_postfix  --verbose --min_train_masks $min_train_masks\n",
    "    # without diameter\n",
    "    # !/home/tmurakami/app/miniconda3/envs/cellpose/bin/python -m cellpose --train --use_gpu --dir $train_folder --test_dir $test_folder --pretrained_model $model_to_load --chan $Training_channel --chan2 $Second_training_channel --n_epochs $number_of_epochs --learning_rate $initial_learning_rate --batch_size $batch_size --img_filter $img_postfix --mask_filter $mask_postfix  --verbose --min_train_masks $min_train_masks"
   ]
  },
  {
   "cell_type": "code",
   "execution_count": null,
   "id": "2921d189-36fc-47e2-b004-649ec72a7363",
   "metadata": {},
   "outputs": [],
   "source": []
  }
 ],
 "metadata": {
  "kernelspec": {
   "display_name": "cellpose2",
   "language": "python",
   "name": "cellpose2"
  },
  "language_info": {
   "codemirror_mode": {
    "name": "ipython",
    "version": 3
   },
   "file_extension": ".py",
   "mimetype": "text/x-python",
   "name": "python",
   "nbconvert_exporter": "python",
   "pygments_lexer": "ipython3",
   "version": "3.8.19"
  }
 },
 "nbformat": 4,
 "nbformat_minor": 5
}
