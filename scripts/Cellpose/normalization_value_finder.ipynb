{
 "cells": [
  {
   "cell_type": "code",
   "execution_count": null,
   "id": "fb2dbbe1-0d62-454d-81c0-b89fc90d55c8",
   "metadata": {},
   "outputs": [],
   "source": [
    "import numpy as np\n",
    "import napari\n",
    "import pandas as pd\n",
    "from tqdm import tqdm\n",
    "import zarr\n",
    "import mFISHwarp.morphology\n",
    "from skimage.filters import threshold_otsu\n",
    "import pickle"
   ]
  },
  {
   "cell_type": "code",
   "execution_count": null,
   "id": "c659c5b8-4fae-454a-a24d-75a13389f04d",
   "metadata": {
    "tags": []
   },
   "outputs": [],
   "source": [
    "# image path\n",
    "sources = ['/mnt/ampa02_data01/tmurakami/240417_whole_4color_1st_M037-3pb/fused/fused.n5',\n",
    "          '/mnt/ampa02_data01/tmurakami/240425_whole_4color_2nd_M037-3pb/fused/fused.n5',\n",
    "          '/mnt/ampa02_data01/tmurakami/240611_fos_pvalb_slc17a7/fused/fused.n5']\n",
    "\n",
    "voxel_size = (2.0,1.3,1.3)\n",
    "reference_chan = 3\n",
    "upper_percentile = 99\n",
    "lower_percentile = 30\n",
    "napari_view = True\n",
    "\n",
    "\n",
    "if napari_view:\n",
    "    # launch napari to manually explore the normalization\n",
    "    viewer = napari.Viewer()\n",
    "    \n",
    "lookup = {}\n",
    "for n5_path in tqdm(sources):\n",
    "    # create Zarr file object\n",
    "    img_zarr = zarr.open(store=zarr.N5Store(n5_path), mode='r')\n",
    "    n5_setups = list(img_zarr.keys())\n",
    "\n",
    "    # make mask that covers only tissue to exclude the area outside of the tissue.\n",
    "    img_down_ref = img_zarr[n5_setups[reference_chan]]['timepoint0']['s4'][:]\n",
    "    global_thresh = threshold_otsu(img_down_ref)\n",
    "    img_mask = mFISHwarp.morphology.mask_maker(img_down_ref,global_thresh)\n",
    "    sub_lookup = {}\n",
    "\n",
    "    # calculate the lower and upper values using percentile.\n",
    "    for i, setup in enumerate(n5_setups):\n",
    "        img_down = img_zarr[setup]['timepoint0']['s4'][:]\n",
    "        # get values at the certain percentile within the mask\n",
    "        lower = np.percentile(img_down[np.where(img_mask)],lower_percentile)\n",
    "        upper = np.percentile(img_down[np.where(img_mask)],upper_percentile)\n",
    "        sub_lookup[i] = {'lower':lower,'upper':upper}\n",
    "        if napari_view:\n",
    "            viewer.add_image((img_down.astype(float)-lower)/(upper-lower), contrast_limits=[0,3],blending='additive',name=setup)\n",
    "\n",
    "\n",
    "    lookup[n5_path] = sub_lookup"
   ]
  },
  {
   "cell_type": "code",
   "execution_count": null,
   "id": "5f3c1c1e-b2d3-4d2c-a6f6-57de10415c02",
   "metadata": {},
   "outputs": [],
   "source": [
    "# save the lookup table as a pickle.\n",
    "file = open('/mnt/ampa02_data01/tmurakami/model_training/norm_values.pkl', 'wb')\n",
    "pickle.dump(lookup, file)\n",
    "file.close()"
   ]
  },
  {
   "cell_type": "code",
   "execution_count": null,
   "id": "5409b439-ceea-4459-85e6-db777483bbf9",
   "metadata": {},
   "outputs": [],
   "source": []
  }
 ],
 "metadata": {
  "kernelspec": {
   "display_name": "cellpose2",
   "language": "python",
   "name": "cellpose2"
  },
  "language_info": {
   "codemirror_mode": {
    "name": "ipython",
    "version": 3
   },
   "file_extension": ".py",
   "mimetype": "text/x-python",
   "name": "python",
   "nbconvert_exporter": "python",
   "pygments_lexer": "ipython3",
   "version": "3.8.19"
  }
 },
 "nbformat": 4,
 "nbformat_minor": 5
}
