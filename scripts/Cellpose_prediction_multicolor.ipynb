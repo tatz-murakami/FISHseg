{
 "cells": [
  {
   "cell_type": "markdown",
   "metadata": {
    "id": "Q7c7V4yEqDc_"
   },
   "source": [
    "# Running cellpose with GPUs"
   ]
  },
  {
   "cell_type": "code",
   "execution_count": 1,
   "metadata": {
    "colab": {
     "base_uri": "https://localhost:8080/"
    },
    "id": "hG3LSmJmLylT",
    "outputId": "44491854-c45f-40e2-ea8c-4c77b67d369b",
    "tags": []
   },
   "outputs": [
    {
     "name": "stdout",
     "output_type": "stream",
     "text": [
      ">>> GPU activated? 1\n",
      "2022-09-03 16:11:15,816 [INFO] WRITING LOG OUTPUT TO /home/tmurakami/.cellpose/run.log\n"
     ]
    }
   ],
   "source": [
    "import numpy as np\n",
    "import time, os, sys\n",
    "os.environ[\"CUDA_DEVICE_ORDER\"]=\"PCI_BUS_ID\"\n",
    "os.environ[\"CUDA_VISIBLE_DEVICES\"]=\"0,1\"\n",
    "\n",
    "import skimage.io\n",
    "import zarr\n",
    "\n",
    "from cellpose import models, core\n",
    "\n",
    "use_GPU = core.use_gpu(gpu_number=0)\n",
    "print('>>> GPU activated? %d'%use_GPU)\n",
    "\n",
    "from cellpose import utils\n",
    "from cellpose import models\n",
    "# from cellpose.contrib import distributed_segmentation\n",
    "# import my_distributed_segmentation\n",
    "\n",
    "# call logger_setup to have output of cellpose written\n",
    "from cellpose.io import logger_setup\n",
    "logger_setup();\n",
    "\n",
    "import ray\n",
    "\n",
    "import sys\n",
    "SCRIPT_DIR = '/home/tmurakami/src/pylsfm/pylsfm'\n",
    "sys.path.append(os.path.dirname(SCRIPT_DIR))\n",
    "\n",
    "import pylsfm.morphology\n",
    "import pylsfm.utils\n",
    "\n",
    "from dask import array as da\n",
    "\n",
    "import functools\n",
    "import operator\n",
    "\n",
    "import mFISH3D.segment_utils\n",
    "import mFISH3D.segment"
   ]
  },
  {
   "cell_type": "markdown",
   "metadata": {},
   "source": [
    "## Create mask"
   ]
  },
  {
   "cell_type": "code",
   "execution_count": 2,
   "metadata": {
    "tags": []
   },
   "outputs": [],
   "source": [
    "nuc_img = zarr.open('/mnt/ampa_data01/tmurakami/220715_prefrontal_q2_R01/ch488.zarr',mode='r')[4][:]\n",
    "\n",
    "mask = pylsfm.morphology.mask_maker(nuc_img,300)\n",
    "# skimage.io.imsave('/mnt/ampa_data01/tmurakami/220715_prefrontal_q2_R01/mask.tif',mask)\n",
    "# skimage.io.imsave('/mnt/ampa_data01/tmurakami/220715_prefrontal_q2_R01/nuc_img.tif',nuc_img)"
   ]
  },
  {
   "cell_type": "code",
   "execution_count": 3,
   "metadata": {},
   "outputs": [],
   "source": [
    "# import napari\n",
    "# viewer = napari.Viewer()\n",
    "# viewer.add_image(mask)\n",
    "# viewer.add_image(nuc_img)"
   ]
  },
  {
   "cell_type": "markdown",
   "metadata": {
    "id": "3JRxBPmatrK7",
    "tags": []
   },
   "source": [
    "\n",
    "## make overlapped images\n"
   ]
  },
  {
   "cell_type": "code",
   "execution_count": 3,
   "metadata": {},
   "outputs": [
    {
     "name": "stdout",
     "output_type": "stream",
     "text": [
      "1006 blocks of 5*26*17=2210 blocks will be calculated\n"
     ]
    }
   ],
   "source": [
    "# read image and convert to dask array\n",
    "zarr_paths = [\n",
    "    '/mnt/ampa_data01/tmurakami/220715_prefrontal_q2_R01/ch640.zarr', \n",
    "    '/mnt/ampa_data01/tmurakami/220715_prefrontal_q2_R01/ch488.zarr'\n",
    "]\n",
    "\n",
    "chunk_size = (256,512,512)\n",
    "depth = (32,64,64) \n",
    "boundary = \"reflect\"\n",
    "\n",
    "overlap_imgs = []\n",
    "for zarr_path in zarr_paths:\n",
    "    img_zarr = zarr.open(zarr_path, mode='r')[0]\n",
    "\n",
    "    img_da = da.rechunk(da.from_zarr(img_zarr),chunks=chunk_size)\n",
    "\n",
    "    # No chunking in channel direction\n",
    "    overlap_imgs.append(da.overlap.overlap(img_da, depth, boundary))\n",
    "\n",
    "flag_array = pylsfm.utils.flag_array_generator(chunk_size, img_zarr.shape, mask)\n",
    "print(f'{flag_array.sum()} blocks of {flag_array.shape[0]}*{flag_array.shape[1]}*{flag_array.shape[2]}={flag_array.size} blocks will be calculated')"
   ]
  },
  {
   "cell_type": "markdown",
   "metadata": {},
   "source": [
    "## load training model"
   ]
  },
  {
   "cell_type": "code",
   "execution_count": 4,
   "metadata": {},
   "outputs": [
    {
     "name": "stdout",
     "output_type": "stream",
     "text": [
      "2022-09-03 16:12:47,429 [INFO] >>>> loading model /mnt/ampa_data01/tmurakami/conf_proc/human_ish_training_dataset/slc17a7_double/training/models/cellpose_residual_on_style_on_concatenation_off_training_2022_08_27_16_18_25.738022\n",
      "2022-09-03 16:12:47,494 [INFO] ** TORCH CUDA version installed and working. **\n",
      "2022-09-03 16:12:47,495 [INFO] >>>> using GPU\n",
      "2022-09-03 16:12:48,383 [INFO] >>>> model diam_mean =  30.000 (ROIs rescaled to this size during training)\n",
      "2022-09-03 16:12:48,383 [INFO] >>>> model diam_labels =  12.851 (mean diameter of training ROIs)\n"
     ]
    }
   ],
   "source": [
    "# load training model\n",
    "train_folder = '/mnt/ampa_data01/tmurakami/conf_proc/human_ish_training_dataset/slc17a7_double/training'\n",
    "\n",
    "models_path = os.path.join(train_folder,'models')\n",
    "models_file = os.listdir(models_path); models_file.sort()\n",
    "model_path = os.path.join(train_folder,'models',models_file[-1])\n",
    "\n",
    "my_model = models.CellposeModel(gpu=True, pretrained_model=model_path, net_avg=False)\n"
   ]
  },
  {
   "cell_type": "markdown",
   "metadata": {},
   "source": [
    "## prepare zarr container to save segmentation"
   ]
  },
  {
   "cell_type": "code",
   "execution_count": 5,
   "metadata": {},
   "outputs": [],
   "source": [
    "block_labeled_zarr_path = '/mnt/ampa_data01/tmurakami/220715_prefrontal_q2_R01/R01_R01/R01ch640_to_R01_segmentation/segmented_overlap.zarr'\n",
    "block_labeled_zarr = zarr.open(\n",
    "    block_labeled_zarr_path,\n",
    "    mode='a', \n",
    "    shape=overlap_imgs[0].shape, \n",
    "    chunks=pylsfm.utils.chunks_from_dask(overlap_imgs[0]), \n",
    "    dtype=np.int32)\n",
    "# block_labeled_zarr = zarr.open(block_labeled_zarr_path,mode='a')"
   ]
  },
  {
   "cell_type": "code",
   "execution_count": 6,
   "metadata": {},
   "outputs": [],
   "source": [
    "@ray.remote(num_gpus=0.5,max_calls=1)\n",
    "def segmentor(\n",
    "    chunks,\n",
    "    channels,\n",
    "    model_type,\n",
    "    diameter_yx,\n",
    "    anisotropy,\n",
    "    fast_mode,\n",
    "    index,\n",
    "    min_size,\n",
    "    chunk_info,\n",
    "    zarr_file,\n",
    "):\n",
    "    # convert dask array to numpy array.\n",
    "    chunks = [i.compute() for i in chunks]\n",
    "    chunk = np.asarray(chunks)\n",
    "    chunk = np.moveaxis(chunk, 0, -1)\n",
    "    chunk = np.pad(chunk, ((0, 0), (0, 0), (0, 0), (0, 3-len(chunks))), 'constant')\n",
    "\n",
    "    model = model_type\n",
    "    \n",
    "    # precomputation to coarsly estimate cell positions\n",
    "    pre_masks, _, _ = model.eval(chunk, channels=channels, z_axis=0, do_3D=False, min_size=min_size, stitch_threshold=0.3, tile=False)\n",
    "    \n",
    "    if np.any(pre_masks!=0):\n",
    "\n",
    "        chunk_norm = np.zeros(chunk.shape,dtype=float)\n",
    "        for i in range(len(chunks)):\n",
    "            img_single = chunk[...,i]\n",
    "            # get local max\n",
    "            interpolator = mFISH3D.segment.get_cellular_intensity_interpolator(pre_masks,img_single)\n",
    "            local_max = mFISH3D.segment.local_max_with_interpolator(interpolator,img_single.shape)\n",
    "\n",
    "            # normalize using local max before second segmentation\n",
    "            chunk_norm[...,i] = mFISH3D.segment.gpu_percentile_normalization(img_single, footprint=np.ones((1,5,100)), img_high=local_max)\n",
    "\n",
    "        segments, _, _ = model.eval(chunk_norm, channels=channels, z_axis=0, diameter=diameter_yx, do_3D=True, min_size=min_size, tile=False)\n",
    "        segments = segments.astype(np.int32)\n",
    "\n",
    "        # for zarr indexing\n",
    "        p = slice(sum(chunk_info[0][:index[0]]),sum(chunk_info[0][:index[0]])+chunk_info[0][index[0]]) \n",
    "        q = slice(sum(chunk_info[1][:index[1]]),sum(chunk_info[1][:index[1]])+chunk_info[1][index[1]])\n",
    "        r = slice(sum(chunk_info[2][:index[2]]),sum(chunk_info[2][:index[2]])+chunk_info[2][index[2]])\n",
    "\n",
    "\n",
    "        zarr_file[p,q,r] = segments"
   ]
  },
  {
   "cell_type": "code",
   "execution_count": null,
   "metadata": {
    "scrolled": true,
    "tags": []
   },
   "outputs": [],
   "source": [
    "# idxs = mFISH3D.segment_utils.get_dask_index(overlap_imgs[0])\n",
    "# chunk_info = overlap_imgs[0].chunks\n",
    "\n",
    "# diameter_yx = 10\n",
    "# anisotropy = None\n",
    "# fast_mode = True\n",
    "# min_size = 100\n",
    "# model_type=my_model\n",
    "# channels=[1,2]\n",
    "# zarr_file = block_labeled_zarr\n",
    "\n",
    "# for index in idxs:\n",
    "#     if flag_array[index[0],index[1],index[2]]:\n",
    "#         input_blocks = [mFISH3D.segment_utils.slicing_with_chunkidx(i, index) for i in overlap_imgs]\n",
    "#         segmentor.remote(\n",
    "#             input_blocks,\n",
    "#             channels,\n",
    "#             model_type,\n",
    "#             diameter_yx,\n",
    "#             anisotropy,\n",
    "#             fast_mode,\n",
    "#             index,\n",
    "#             min_size,\n",
    "#             chunk_info,\n",
    "#             zarr_file,\n",
    "#         )"
   ]
  },
  {
   "cell_type": "code",
   "execution_count": null,
   "metadata": {
    "scrolled": true,
    "tags": []
   },
   "outputs": [],
   "source": [
    "#"
   ]
  },
  {
   "cell_type": "code",
   "execution_count": null,
   "metadata": {
    "scrolled": true,
    "tags": []
   },
   "outputs": [],
   "source": [
    "### in case from the middle of the computation\n",
    "stored_chunks = os.listdir(block_labeled_zarr_path)\n",
    "stored_chunks.sort()\n",
    "\n",
    "# last_chunk = (1,22,3)\n",
    "\n",
    "idxs = mFISH3D.segment_utils.get_dask_index(overlap_imgs[0])\n",
    "chunk_info = overlap_imgs[0].chunks\n",
    "\n",
    "diameter_yx = 10\n",
    "anisotropy = None\n",
    "fast_mode = True\n",
    "min_size = 100\n",
    "model_type=my_model\n",
    "channels=[1,2]\n",
    "zarr_file = block_labeled_zarr\n",
    "\n",
    "# flag = 0\n",
    "for index in idxs:\n",
    "    if flag_array[index[0],index[1],index[2]]:\n",
    "        # if index == last_chunk:\n",
    "        #     flag = 1\n",
    "        if '.'.join([str(i) for i in index]) not in stored_chunks:# flag == 1:\n",
    "            input_blocks = [mFISH3D.segment_utils.slicing_with_chunkidx(i, index) for i in overlap_imgs]\n",
    "            segmentor.remote(\n",
    "                input_blocks,\n",
    "                channels,\n",
    "                model_type,\n",
    "                diameter_yx,\n",
    "                anisotropy,\n",
    "                fast_mode,\n",
    "                index,\n",
    "                min_size,\n",
    "                chunk_info,\n",
    "                zarr_file,\n",
    "            )"
   ]
  },
  {
   "cell_type": "code",
   "execution_count": null,
   "metadata": {
    "scrolled": true,
    "tags": []
   },
   "outputs": [],
   "source": [
    "# "
   ]
  },
  {
   "cell_type": "code",
   "execution_count": null,
   "metadata": {},
   "outputs": [],
   "source": [
    "'''Those are great resource for the scaling up the segmentation'''\n",
    "# https://github.com/MouseLand/cellpose/issues/244\n",
    "# https://github.com/MouseLand/cellpose/pull/356\n",
    "# https://github.com/MouseLand/cellpose/blob/master/cellpose/contrib/distributed_segmentation.py\n",
    "# https://github.com/MouseLand/cellpose/pull/408/commits/359e480335d68caa04c7caa6ff66a089c767b63f#diff-a3c93a2a4ec84f6c33dc52001df50cd7e5afbc78482858fe54a67987772464da"
   ]
  }
 ],
 "metadata": {
  "accelerator": "GPU",
  "colab": {
   "collapsed_sections": [],
   "include_colab_link": true,
   "name": "run_cellpose_GPU.ipynb",
   "provenance": []
  },
  "kernelspec": {
   "display_name": "cellpose",
   "language": "python",
   "name": "cellpose"
  },
  "language_info": {
   "codemirror_mode": {
    "name": "ipython",
    "version": 3
   },
   "file_extension": ".py",
   "mimetype": "text/x-python",
   "name": "python",
   "nbconvert_exporter": "python",
   "pygments_lexer": "ipython3",
   "version": "3.8.19"
  }
 },
 "nbformat": 4,
 "nbformat_minor": 4
}
