{
 "cells": [
  {
   "cell_type": "code",
   "execution_count": null,
   "id": "2ace6dd8-6383-49c7-a3c9-64f36db3519d",
   "metadata": {},
   "outputs": [],
   "source": [
    "import numpy as np\n",
    "import napari\n",
    "import zarr\n",
    "import mFISHwarp.morphology\n",
    "import mFISHwarp.fft\n",
    "import mFISHwarp.zarr\n",
    "from skimage.filters import threshold_otsu\n",
    "from scipy import fft\n",
    "import dask.array as da\n",
    "import os\n",
    "from ome_zarr.writer import write_multiscales_metadata\n",
    "from ome_zarr.io import parse_url\n",
    "from ome_zarr.reader import Reader\n",
    "from tqdm import tqdm"
   ]
  },
  {
   "cell_type": "code",
   "execution_count": null,
   "id": "bf877929-6559-455b-9c2f-db7ea21e8d90",
   "metadata": {},
   "outputs": [],
   "source": [
    "from dask.distributed import Client\n",
    "client = Client(n_workers=8, threads_per_worker=1, dashboard_address='localhost:8787') # https://docs.dask.org/en/latest/how-to/deploy-dask/single-distributed.html\n",
    "client"
   ]
  },
  {
   "cell_type": "code",
   "execution_count": null,
   "id": "e8ca7c19-ec3a-4f56-900f-df586f9d477c",
   "metadata": {
    "tags": []
   },
   "outputs": [],
   "source": [
    "## set parameters for fft\n",
    "# image path\n",
    "# '/mnt/ampa02_data01/tmurakami/240425_whole_4color_2nd_M037-3pb/fused/fused.n5'\n",
    "# '/mnt/ampa02_data01/tmurakami/240417_whole_4color_1st_M037-3pb/fused/fused.n5'\n",
    "data_path = '/mnt/ampa02_data01/tmurakami/240417_whole_4color_1st_M037-3pb/fused/fused.n5'\n",
    "original_chunk_size = (1,256,256,256)\n",
    "original_physical_scale = (1.0,2.0,1.3,1.3)\n",
    "reference_chan = 3\n",
    "upper_percentile = 99.8\n",
    "resolution = 2 # 2 is the maximum considering the RAM size.\n",
    "hann_window_shrink_factor = 1\n",
    "\n",
    "## set parameters for saving zarr of fft filtered image\n",
    "# '/mnt/ampa02_data01/tmurakami/240425_whole_4color_2nd_M037-3pb/fused/fft_norm_2_99p8.zarr'\n",
    "# '/mnt/ampa02_data01/tmurakami/240417_whole_4color_1st_M037-3pb/registration/round02_3.zarr'\n",
    "save_zarr_path = '/mnt/ampa02_data01/tmurakami/240417_whole_4color_1st_M037-3pb/fused/fft_norm_2.zarr'\n",
    "downscale_factor = (1,2,2,2)\n",
    "pyramid_level = 1\n",
    "axes_info = ['c','z','y','x']\n",
    "\n",
    "# set physical_scale and chunk size considering the downsampling rate\n",
    "factors = tuple(i**resolution for i in downscale_factor) \n",
    "physical_scale = tuple(i*j for i,j in zip(original_physical_scale, factors))\n",
    "chunk_size = tuple(i//j for i,j in zip(original_chunk_size,factors))\n",
    "\n",
    "# lazily load the data of the targeted resolution using dask\n",
    "_, ext = os.path.splitext(data_path)\n",
    "\n",
    "imgs = []\n",
    "if ext == '.n5': # n5 assume bigstitcher (bigdataviewer) format\n",
    "    # create Zarr file object\n",
    "    # load images according to the input parameters.\n",
    "    img_zarr = zarr.open(store=zarr.N5Store(data_path), mode='r')\n",
    "    n5_setups = list(img_zarr.keys())\n",
    "    res_list = list(img_zarr[n5_setups[reference_chan]]['timepoint0'].keys())\n",
    "    \n",
    "    for n5_setup in n5_setups:\n",
    "        imgs.append(da.from_zarr(img_zarr[n5_setup]['timepoint0'][res_list[resolution]]))\n",
    "    imgs = da.stack(imgs)\n",
    "        \n",
    "\n",
    "elif ext == '.zarr': # zarr assumes ome-zarr\n",
    "    # read the image data\n",
    "    store = parse_url(data_path, mode=\"r\").store\n",
    "    reader = Reader(parse_url(data_path))\n",
    "    # nodes may include images, labels etc\n",
    "    nodes = list(reader())\n",
    "    # first node will be the image pixel data\n",
    "    image_node = nodes[0]\n",
    "\n",
    "    dask_data = image_node.data\n",
    "    imgs = dask_data[resolution]\n",
    "\n",
    "else:\n",
    "    raise ValueError(\"the extension should be .n5 or .zarr\")\n",
    "\n",
    "if original_chunk_size is None:\n",
    "    chunk_size = [i[0] for i in imgs.chunks] # set the chunk size for saving. this can be arbitrary."
   ]
  },
  {
   "cell_type": "markdown",
   "id": "a2c0e362-0e71-409c-9af8-0d499ab4b381",
   "metadata": {},
   "source": [
    "## Create tissue mask"
   ]
  },
  {
   "cell_type": "code",
   "execution_count": null,
   "id": "273f1d0c-fd7b-48aa-97ef-51666e60c6fc",
   "metadata": {},
   "outputs": [],
   "source": [
    "# make mask that covers only tissue to exclude the area outside of the tissue.\n",
    "# the mask will be used to get\n",
    "img_down_ref = imgs[reference_chan].compute()\n",
    "global_thresh = threshold_otsu(img_down_ref)\n",
    "img_mask = mFISHwarp.morphology.mask_maker(img_down_ref,global_thresh)"
   ]
  },
  {
   "cell_type": "code",
   "execution_count": null,
   "id": "eb687181-d281-4250-988b-8a3fc6b1a3e2",
   "metadata": {},
   "outputs": [],
   "source": [
    "# confirm the tissue masking is correct\n",
    "viewer = napari.Viewer()\n",
    "\n",
    "viewer.add_image(img_down_ref, contrast_limits=[0,20000],blending='additive',name='img',colormap='magenta')\n",
    "viewer.add_image(img_mask, contrast_limits=[0,10],blending='additive',name='mask',colormap='green')"
   ]
  },
  {
   "cell_type": "markdown",
   "id": "5b887f0d-264d-4386-945c-b0db903fc872",
   "metadata": {},
   "source": [
    "## FFT fileter and percentile normalization within the tissue \n",
    "The upper and lower range for the normalization is determined by the values in the tissue mask refering the percentile parameters."
   ]
  },
  {
   "cell_type": "code",
   "execution_count": null,
   "id": "bd464c70-e631-45f2-ae6f-831b591e30bd",
   "metadata": {},
   "outputs": [],
   "source": [
    "## create zarr to save the FFT image.\n",
    "store = zarr.DirectoryStore(save_zarr_path, dimension_separator='/')\n",
    "root = zarr.group(store=store)\n",
    "\n",
    "data_zarr = root.create_dataset('0',shape=imgs.shape,chunks=chunk_size,dtype=np.float32)\n",
    "\n",
    "# prepare metadata to zarr\n",
    "datasets = mFISHwarp.zarr.datasets_metadata_generator(physical_scale, downscale_factor=downscale_factor, pyramid_level=pyramid_level)\n",
    "# create custom-made attrubute to save normalization parameter\n",
    "datasets[0]['norm_upper_values'] = {}\n",
    "datasets[0]['norm_upper_percentile'] = upper_percentile"
   ]
  },
  {
   "cell_type": "code",
   "execution_count": null,
   "id": "d7d7c823-3ee5-4a76-af4e-0a5a529e9549",
   "metadata": {},
   "outputs": [],
   "source": [
    "# create Hann filter window for FFT filetering\n",
    "shape = imgs.shape[1:]\n",
    "mask = 1 - mFISHwarp.fft.create_3d_hann_window(tuple(i//hann_window_shrink_factor for i in shape), shape)\n",
    "\n",
    "for chan in tqdm(range(imgs.shape[0])):\n",
    "    # get downsampled image\n",
    "    img_down = imgs[chan].compute()\n",
    "    \n",
    "    # get absolute values after FFT fileter, and call it as filtered image\n",
    "    filtered_image = mFISHwarp.fft.fft_filter(img_down, mask)\n",
    "    masked_vals = filtered_image[np.where(img_mask)]\n",
    "\n",
    "    upper_f = np.percentile(masked_vals,upper_percentile)\n",
    "\n",
    "    # normalization\n",
    "    # norm_img_fft = filtered_image.astype(float)/upper_f\n",
    "\n",
    "    # data_zarr[chan,...] = norm_img_fft\n",
    "    data_zarr[chan,...] = filtered_image\n",
    "    datasets[0]['norm_upper_values'][str(chan)] =  upper_f"
   ]
  },
  {
   "cell_type": "code",
   "execution_count": null,
   "id": "1be4e80f-074c-4cbd-a838-795906c6dec6",
   "metadata": {},
   "outputs": [],
   "source": [
    "### write metadata for ome-zarr\n",
    "write_multiscales_metadata(root, datasets=datasets, axes=axes_info)"
   ]
  },
  {
   "cell_type": "code",
   "execution_count": null,
   "id": "f1f6e05e-bd6b-4b90-8cdd-83ab05c191c4",
   "metadata": {
    "tags": []
   },
   "outputs": [],
   "source": [
    "viewer = napari.Viewer()\n",
    "viewer.open(save_zarr_path, plugin=\"napari-ome-zarr\")"
   ]
  },
  {
   "cell_type": "code",
   "execution_count": null,
   "id": "1df5979e-60f9-4063-96ff-1a4c381f2c36",
   "metadata": {},
   "outputs": [],
   "source": [
    "###"
   ]
  },
  {
   "cell_type": "code",
   "execution_count": null,
   "id": "b5e49a17-66e0-4c00-9949-bbf3e7b2ee83",
   "metadata": {
    "tags": []
   },
   "outputs": [],
   "source": [
    "### for EDA\n",
    "\n",
    "# import seaborn as sns\n",
    "\n",
    "# i = 1\n",
    "# test_percentile = 99.8\n",
    "\n",
    "# dat = masked_vals_list[i][::10000]\n",
    "# # sns.histplot(data=img_down[np.where(img_mask)][::10000])\n",
    "# sns.histplot(data=np.abs(dat), log_scale=True)\n",
    "# print(np.percentile(dat,test_percentile))\n",
    "# print(np.log10(np.percentile(dat,test_percentile)))"
   ]
  },
  {
   "cell_type": "code",
   "execution_count": null,
   "id": "d879bc6a-32bc-457f-ab14-829aa2e1174b",
   "metadata": {},
   "outputs": [],
   "source": []
  }
 ],
 "metadata": {
  "kernelspec": {
   "display_name": "cellpose2",
   "language": "python",
   "name": "cellpose2"
  },
  "language_info": {
   "codemirror_mode": {
    "name": "ipython",
    "version": 3
   },
   "file_extension": ".py",
   "mimetype": "text/x-python",
   "name": "python",
   "nbconvert_exporter": "python",
   "pygments_lexer": "ipython3",
   "version": "3.8.19"
  }
 },
 "nbformat": 4,
 "nbformat_minor": 5
}
