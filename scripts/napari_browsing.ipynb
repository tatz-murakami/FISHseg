{
 "cells": [
  {
   "cell_type": "code",
   "execution_count": null,
   "id": "8fbc5054-0ec7-4dc0-b20c-3aeaee5a9da3",
   "metadata": {},
   "outputs": [],
   "source": [
    "import napari\n",
    "import numpy as np\n",
    "import os\n",
    "import dask.array as da\n",
    "import dask\n",
    "\n",
    "import zarr\n",
    "from ome_zarr.io import parse_url\n",
    "from ome_zarr.reader import Reader"
   ]
  },
  {
   "cell_type": "markdown",
   "id": "5746e649-b98f-48b6-8080-72e9ca8e7ba7",
   "metadata": {},
   "source": [
    "### Load segmentation as pyramid"
   ]
  },
  {
   "cell_type": "code",
   "execution_count": null,
   "id": "ae0b53de-2c78-4980-9ca0-5333416abe25",
   "metadata": {},
   "outputs": [],
   "source": [
    "### Load segmentation\n",
    "# segmentation is always good if loaded as pyramid\n",
    "seg_zarr_path = '/mnt/ampa02_data01/tmurakami/240425_whole_4color_2nd_M037-3pb/segmentation/Gad1/segmented_pyramid.zarr'\n",
    "\n",
    "seg_zarr = zarr.open(seg_zarr_path, mode='r')\n",
    "\n",
    "seg_pyramid = []\n",
    "for i in list(seg_zarr.keys()):\n",
    "    seg_pyramid.append(da.from_zarr(seg_zarr[i]))"
   ]
  },
  {
   "cell_type": "markdown",
   "id": "ad9f5295-bedc-4311-8e4c-378e7edb1a91",
   "metadata": {
    "tags": []
   },
   "source": [
    "### Use downsampled image"
   ]
  },
  {
   "cell_type": "code",
   "execution_count": null,
   "id": "e19e3373-dc52-4e17-8ba5-de237ca1e187",
   "metadata": {},
   "outputs": [],
   "source": [
    "# set target resolution\n",
    "resolution = 1\n",
    "segment_chan = 4\n",
    "scale=(2.0,1.3,1.3)\n",
    "data_path = '/mnt/ampa02_data01/tmurakami/240425_whole_4color_2nd_M037-3pb/fused/fused.n5'\n",
    "_, ext = os.path.splitext(data_path)\n",
    "\n",
    "if ext == '.n5': # n5 assume bigstitcher (bigdataviewer) format\n",
    "    # load images according to the input parameters.\n",
    "    img_zarr = zarr.open(store=zarr.N5Store(data_path), mode='r')\n",
    "    n5_setups = list(img_zarr.keys())\n",
    "    res_list = list(img_zarr[n5_setups[segment_chan]]['timepoint0'].keys())\n",
    "\n",
    "    img_da = da.from_zarr(img_zarr[n5_setups[segment_chan]]['timepoint0'][res_list[resolution]])\n",
    "    img = img_da.compute()\n",
    "    \n",
    "elif ext == '.zarr': # zarr assumes ome-zarr\n",
    "    # read the image data\n",
    "    store = parse_url(data_path, mode=\"r\").store\n",
    "    reader = Reader(parse_url(data_path))\n",
    "    # nodes may include images, labels etc\n",
    "    nodes = list(reader())\n",
    "    # first node will be the image pixel data\n",
    "    image_node = nodes[0]\n",
    "\n",
    "    dask_data = image_node.data\n",
    "    img = dask_data[resolution][segment_chan,...].compute()\n",
    "    \n",
    "### visualization using napari\n",
    "viewer = napari.Viewer()\n",
    "viewer.add_image(img,contrast_limits=[0,20000], rgb=False, name='image', colormap='gray', blending='additive',scale=(2.0,1.3,1.3))\n",
    "viewer.add_labels(seg_pyramid[resolution],opacity=0.4,scale=(2.0,1.3,1.3))"
   ]
  },
  {
   "cell_type": "markdown",
   "id": "8cd82e60-d7a4-412b-95a0-3fb102c4ff5d",
   "metadata": {},
   "source": [
    "### Use pyramid resolution"
   ]
  },
  {
   "cell_type": "code",
   "execution_count": null,
   "id": "e19a66ce-f80a-49db-bba1-ddbb31d5bdba",
   "metadata": {},
   "outputs": [],
   "source": [
    "data_path = '/mnt/ampa02_data01/tmurakami/240425_whole_4color_2nd_M037-3pb/fused/fused.n5'\n",
    "_, ext = os.path.splitext(data_path)\n",
    "scale=(2.0,1.3,1.3)\n",
    "\n",
    "if ext == '.n5': # n5 assume bigstitcher (bigdataviewer) format\n",
    "    ### if the original file is n5\n",
    "\n",
    "    # load images according to the input parameters.\n",
    "    img_zarr = zarr.open(store=zarr.N5Store(data_path), mode='r')\n",
    "    n5_setups = list(img_zarr.keys())\n",
    "    res_list = list(img_zarr[n5_setups[0]]['timepoint0'].keys())\n",
    "\n",
    "    imgs = []\n",
    "    for setup in n5_setups:\n",
    "        pyramid = []\n",
    "        for res in res_list:\n",
    "            pyramid.append(da.from_zarr(img_zarr[setup]['timepoint0'][res]))\n",
    "        imgs.append(pyramid)\n",
    "\n",
    "    viewer = napari.Viewer()\n",
    "    for img in imgs:\n",
    "        viewer.add_image(img, contrast_limits=[0,20000], rgb=False, name='image', colormap='gray', blending='additive',scale=scale)\n",
    "    \n",
    "elif ext == '.zarr': # zarr assumes ome-zarr\n",
    "    viewer = napari.Viewer()\n",
    "    viewer.open(data_path, plugin=\"napari-ome-zarr\")\n",
    "    \n",
    "viewer.add_labels(seg_pyramid,opacity=0.4,scale=scale)"
   ]
  },
  {
   "cell_type": "code",
   "execution_count": null,
   "id": "e0ef6678-6683-4931-86a9-409d133cd365",
   "metadata": {},
   "outputs": [],
   "source": []
  }
 ],
 "metadata": {
  "kernelspec": {
   "display_name": "lsfm02",
   "language": "python",
   "name": "lsfm02"
  },
  "language_info": {
   "codemirror_mode": {
    "name": "ipython",
    "version": 3
   },
   "file_extension": ".py",
   "mimetype": "text/x-python",
   "name": "python",
   "nbconvert_exporter": "python",
   "pygments_lexer": "ipython3",
   "version": "3.9.16"
  }
 },
 "nbformat": 4,
 "nbformat_minor": 5
}
