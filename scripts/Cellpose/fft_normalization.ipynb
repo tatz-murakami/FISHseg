{
 "cells": [
  {
   "cell_type": "code",
   "execution_count": null,
   "id": "2ace6dd8-6383-49c7-a3c9-64f36db3519d",
   "metadata": {},
   "outputs": [],
   "source": [
    "import numpy as np\n",
    "import napari\n",
    "import zarr\n",
    "import mFISHwarp.morphology\n",
    "import mFISHwarp.fft\n",
    "import mFISHwarp.zarr\n",
    "from skimage.filters import threshold_otsu\n",
    "from skimage.exposure import match_histograms\n",
    "from scipy import fft\n",
    "import dask.array as da\n",
    "import os\n",
    "from ome_zarr.writer import write_multiscales_metadata\n",
    "from tqdm import tqdm"
   ]
  },
  {
   "cell_type": "code",
   "execution_count": null,
   "id": "2c1a7efd-0de1-4b2e-9f8a-f2ed77cfeec0",
   "metadata": {},
   "outputs": [],
   "source": [
    "data_path = '/mnt/ampa02_data01/tmurakami/240417_whole_4color_1st_M037-3pb/fused/fused.n5'\n",
    "original_chunk_size = (1,256,256,256) # the chunk size used for analysis. This is optional and can be None.\n",
    "original_physical_scale = (1.0,2.0,1.3,1.3)\n",
    "reference_chan = 3\n",
    "upper_percentile = 99\n",
    "lower_percentile = 30\n",
    "resolution = 3 # s2 is the maximum considering the RAM size.\n",
    "hann_window_shrink_factor = 1\n",
    "\n",
    "## set parameters for saving zarr of fft filtered image\n",
    "save_zarr_path = '/mnt/ampa02_data01/tmurakami/240417_whole_4color_1st_M037-3pb/registration/fft_norm.zarr'\n",
    "downscale_factor = (1,2,2,2)\n",
    "pyramid_level = 1\n",
    "axes_info = ['c','z','y','x']\n",
    "\n",
    "# set physical_scale and chunk size considering the downsampling rate\n",
    "factors = tuple(i**resolution for i in (1,2,2,2))\n",
    "physical_scale = tuple(i*j for i,j in zip(original_physical_scale, factors))\n",
    "if original_chunk_size is not None:\n",
    "    chunk_size = tuple(i//j for i,j in zip(original_chunk_size, factors))"
   ]
  },
  {
   "cell_type": "code",
   "execution_count": null,
   "id": "e8ca7c19-ec3a-4f56-900f-df586f9d477c",
   "metadata": {
    "tags": []
   },
   "outputs": [],
   "source": [
    "## set parameters for fft\n",
    "# image path\n",
    "# '/mnt/ampa02_data01/tmurakami/240425_whole_4color_2nd_M037-3pb/fused/fused.n5'\n",
    "# '/mnt/ampa02_data01/tmurakami/240417_whole_4color_1st_M037-3pb/fused/fused.n5'\n",
    "# '/mnt/ampa02_data01/tmurakami/240417_whole_4color_1st_M037-3pb/registration/round02_3.zarr'\n",
    "data_path = '/mnt/ampa02_data01/tmurakami/240417_whole_4color_1st_M037-3pb/fused/fused.n5'\n",
    "original_chunk_size = (1,256,256,256)\n",
    "original_physical_scale = (1.0,2.0,1.3,1.3)\n",
    "reference_chan = 3\n",
    "upper_percentile = 99\n",
    "lower_percentile = 30\n",
    "resolution = 3 # s2 is the maximum considering the RAM size.\n",
    "hann_window_shrink_factor = 1\n",
    "\n",
    "## set parameters for saving zarr of fft filtered image\n",
    "save_zarr_path = '/mnt/ampa02_data01/tmurakami/240417_whole_4color_1st_M037-3pb/registration/fft_norm.zarr'\n",
    "downscale_factor = (1,2,2,2)\n",
    "pyramid_level = 1\n",
    "axes_info = ['c','z','y','x']\n",
    "\n",
    "# set physical_scale and chunk size considering the downsampling rate\n",
    "factors = tuple(i**resolution for i in downscale_factor) \n",
    "physical_scale = tuple(i*j for i,j in zip(original_physical_scale, factors))\n",
    "chunk_size = tuple(i//j for i,j in zip(original_chunk_size,factors))\n",
    "\n",
    "# lazily load the data of the targeted resolution using dask\n",
    "_, ext = os.path.splitext(data_path)\n",
    "\n",
    "imgs = []\n",
    "if ext == '.n5': # n5 assume bigstitcher (bigdataviewer) format\n",
    "    # create Zarr file object\n",
    "    # load images according to the input parameters.\n",
    "    img_zarr = zarr.open(store=zarr.N5Store(data_path), mode='r')\n",
    "    n5_setups = list(img_zarr.keys())\n",
    "    res_list = list(img_zarr[n5_setups[reference_chan]]['timepoint0'].keys())\n",
    "    \n",
    "    for n5_setup in n5_setups:\n",
    "        imgs.append(da.from_zarr(img_zarr[n5_setup]['timepoint0'][res_list[resolution]]))\n",
    "    imgs = da.stack(imgs)\n",
    "        \n",
    "\n",
    "elif ext == '.zarr': # zarr assumes ome-zarr\n",
    "    # read the image data\n",
    "    store = parse_url(data_path, mode=\"r\").store\n",
    "    reader = Reader(parse_url(data_path))\n",
    "    # nodes may include images, labels etc\n",
    "    nodes = list(reader())\n",
    "    # first node will be the image pixel data\n",
    "    image_node = nodes[0]\n",
    "\n",
    "    dask_data = image_node.data\n",
    "    imgs = dask_data[resolution]\n",
    "    # img = dask_data[resolution][segment_chan,...].compute()\n",
    "\n",
    "else:\n",
    "    raise ValueError(\"the extension should be .n5 or .zarr\")\n",
    "\n",
    "if original_chunk_size is None:\n",
    "    chunk_size = [i[0] for i in imgs.chunks] # set the chunk size for saving. this can be arbitrary."
   ]
  },
  {
   "cell_type": "markdown",
   "id": "a2c0e362-0e71-409c-9af8-0d499ab4b381",
   "metadata": {},
   "source": [
    "## Create tissue mask"
   ]
  },
  {
   "cell_type": "code",
   "execution_count": null,
   "id": "273f1d0c-fd7b-48aa-97ef-51666e60c6fc",
   "metadata": {},
   "outputs": [],
   "source": [
    "# make mask that covers only tissue to exclude the area outside of the tissue.\n",
    "# the mask will be used to get \n",
    "img_down_ref = imgs[reference_chan].compute()\n",
    "global_thresh = threshold_otsu(img_down_ref)\n",
    "img_mask = mFISHwarp.morphology.mask_maker(img_down_ref,global_thresh)"
   ]
  },
  {
   "cell_type": "code",
   "execution_count": null,
   "id": "eb687181-d281-4250-988b-8a3fc6b1a3e2",
   "metadata": {},
   "outputs": [],
   "source": [
    "# confirm the tissue masking is correct\n",
    "viewer = napari.Viewer()\n",
    "\n",
    "viewer.add_image(img_down_ref, contrast_limits=[0,20000],blending='additive',name='img',color='magenta')\n",
    "viewer.add_image(img_mask, contrast_limits=[0,50],blending='additive',name='mask',color='green')"
   ]
  },
  {
   "cell_type": "markdown",
   "id": "5b887f0d-264d-4386-945c-b0db903fc872",
   "metadata": {},
   "source": [
    "## FFT fileter and percentile normalization within the tissue \n",
    "The upper and lower range for the normalization is determined by the values in the tissue mask refering the percentile parameters."
   ]
  },
  {
   "cell_type": "code",
   "execution_count": null,
   "id": "bd464c70-e631-45f2-ae6f-831b591e30bd",
   "metadata": {},
   "outputs": [],
   "source": [
    "### create zarr to save the FFT image.\n",
    "store = zarr.DirectoryStore(save_zarr_path, dimension_separator='/')\n",
    "root = zarr.group(store=store)\n",
    "\n",
    "dataset = root.create_dataset('0',shape=imgs.shape,chunks=chunk_size,dtype=np.float32)"
   ]
  },
  {
   "cell_type": "code",
   "execution_count": null,
   "id": "d7d7c823-3ee5-4a76-af4e-0a5a529e9549",
   "metadata": {},
   "outputs": [],
   "source": [
    "for chan in tqdm(range(imgs.shape[0])):\n",
    "    # get downsampled image\n",
    "    img_down = imgs[chan].compute()\n",
    "    shape = img_down.shape\n",
    "\n",
    "    # make mask in Fourier space to remove low frequency component.\n",
    "    hann_3d = mFISHwarp.fft.create_3d_hann_window(tuple(i//hann_window_shrink_factor for i in shape), shape)\n",
    "    mask = 1 - hann_3d\n",
    "\n",
    "    filtered_image = mFISHwarp.fft.fft_filter(img_down, mask)\n",
    "\n",
    "    lower = np.percentile(img_down[np.where(img_mask)],lower_percentile)\n",
    "    upper = np.percentile(img_down[np.where(img_mask)],upper_percentile)\n",
    "\n",
    "    lower_f = np.percentile(filtered_image[np.where(img_mask)],lower_percentile)\n",
    "    upper_f = np.percentile(filtered_image[np.where(img_mask)],upper_percentile)\n",
    "\n",
    "    # normalization\n",
    "    norm_img = (img_down.astype(float)-lower)/(upper-lower)\n",
    "    norm_img_fft = (filtered_image.astype(float)-lower_f)/(upper_f-lower_f)\n",
    "\n",
    "    dataset[chan,...] = norm_img_fft"
   ]
  },
  {
   "cell_type": "code",
   "execution_count": null,
   "id": "1be4e80f-074c-4cbd-a838-795906c6dec6",
   "metadata": {},
   "outputs": [],
   "source": [
    "### write metadata for ome-zarr\n",
    "datasets = mFISHwarp.zarr.datasets_metadata_generator(physical_scale, downscale_factor=downscale_factor, pyramid_level=pyramid_level)\n",
    "write_multiscales_metadata(root, datasets=datasets, axes=axes_info)"
   ]
  },
  {
   "cell_type": "code",
   "execution_count": null,
   "id": "f1f6e05e-bd6b-4b90-8cdd-83ab05c191c4",
   "metadata": {
    "tags": []
   },
   "outputs": [],
   "source": [
    "viewer = napari.Viewer()\n",
    "viewer.open(save_zarr_path, plugin=\"napari-ome-zarr\", contrast_limits=[0,1])"
   ]
  },
  {
   "cell_type": "code",
   "execution_count": null,
   "id": "c4c7aa86-fdbb-4e08-8056-b060432b6357",
   "metadata": {},
   "outputs": [],
   "source": [
    "### left of the things are garbages"
   ]
  },
  {
   "cell_type": "code",
   "execution_count": null,
   "id": "04f93456-f290-4563-ba5f-da89d9f7c531",
   "metadata": {},
   "outputs": [],
   "source": [
    "    # viewer = napari.Viewer()\n",
    "    # viewer.add_image(norm_img, contrast_limits=[0,1],blending='translucent',name='img')\n",
    "    # viewer.add_image(norm_img_fft, contrast_limits=[0,1],blending='translucent',name='fft')"
   ]
  },
  {
   "cell_type": "code",
   "execution_count": null,
   "id": "ee0df842-1c0f-4084-b044-f236f6e82e97",
   "metadata": {},
   "outputs": [],
   "source": [
    "box_size = 32\n",
    "z = 85; y = 775; x = 575\n",
    "# z = 160; y = 584; x = 478\n",
    "# z = 160; y = 300; x = 233\n",
    "# z = 100; y = 741; x = 671\n",
    "# z = 100*2; y = 742*2; x = 638*2\n",
    "# z = 164; y = 1442; x = 454\n",
    "# factors = {'s0':1, 's1':2, 's2':4, 's3':8}\n",
    "factor = 2 ** resolution# factors[resolution]\n",
    "my_range = (slice(z,z+box_size), slice(y,y+box_size), slice(x,x+box_size))\n",
    "my_range_in_high = (slice(z*factor,z*factor+box_size*factor),\n",
    "                    slice(y*factor,y*factor+box_size*factor),\n",
    "                    slice(x*factor,x*factor+box_size*factor))\n",
    "matched = match_histograms(norm_img[my_range], norm_img_fft[my_range])"
   ]
  },
  {
   "cell_type": "code",
   "execution_count": null,
   "id": "d3820afe-4fa1-426a-8ee3-359dbe5e4d3a",
   "metadata": {},
   "outputs": [],
   "source": [
    "img_high = da.from_zarr(img_zarr[n5_setups[segment_chan]]['timepoint0']['s0'])\n",
    "block = img_high[my_range_in_high].compute().astype(float)\n",
    "matched_fft = match_histograms(block, norm_img_fft[my_range])\n",
    "matched_reg = match_histograms(block, norm_img[my_range])"
   ]
  },
  {
   "cell_type": "code",
   "execution_count": null,
   "id": "c9b8a755-58fc-4922-83b1-62989340f12b",
   "metadata": {},
   "outputs": [],
   "source": [
    "viewer = napari.Viewer()\n",
    "\n",
    "viewer.add_image(matched_reg, contrast_limits=[0,1],blending='translucent',name='matched_reg')\n",
    "viewer.add_image(matched_fft, contrast_limits=[0,1],blending='translucent',name='matched_fft')"
   ]
  },
  {
   "cell_type": "code",
   "execution_count": null,
   "id": "41dd6b6c-af6d-46bc-91ce-9c67b5eac45f",
   "metadata": {},
   "outputs": [],
   "source": [
    "viewer = napari.Viewer()\n",
    "\n",
    "viewer.add_image(norm_img[my_range], contrast_limits=[0,1],blending='translucent',name='img')\n",
    "viewer.add_image(norm_img_fft[my_range], contrast_limits=[0,1],blending='translucent',name='fft')\n",
    "viewer.add_image(matched, contrast_limits=[0,1],blending='translucent',name='matched')"
   ]
  },
  {
   "cell_type": "code",
   "execution_count": null,
   "id": "87468e38-5fa4-4b20-bd6d-c4b324320442",
   "metadata": {},
   "outputs": [],
   "source": [
    "#"
   ]
  },
  {
   "cell_type": "code",
   "execution_count": null,
   "id": "892bb442-d835-4117-8333-5c90823a9837",
   "metadata": {},
   "outputs": [],
   "source": []
  }
 ],
 "metadata": {
  "kernelspec": {
   "display_name": "cellpose2",
   "language": "python",
   "name": "cellpose2"
  },
  "language_info": {
   "codemirror_mode": {
    "name": "ipython",
    "version": 3
   },
   "file_extension": ".py",
   "mimetype": "text/x-python",
   "name": "python",
   "nbconvert_exporter": "python",
   "pygments_lexer": "ipython3",
   "version": "3.8.19"
  }
 },
 "nbformat": 4,
 "nbformat_minor": 5
}
