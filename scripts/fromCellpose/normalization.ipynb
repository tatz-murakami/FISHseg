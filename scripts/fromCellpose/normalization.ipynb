{
 "cells": [
  {
   "cell_type": "code",
   "execution_count": null,
   "id": "fb2dbbe1-0d62-454d-81c0-b89fc90d55c8",
   "metadata": {},
   "outputs": [],
   "source": [
    "import numpy as np\n",
    "import os\n",
    "\n",
    "from skimage import io\n",
    "from tqdm import tqdm\n",
    "import napari\n",
    "import pandas as pd\n",
    "\n",
    "import zarr"
   ]
  },
  {
   "cell_type": "code",
   "execution_count": null,
   "id": "5f3c1c1e-b2d3-4d2c-a6f6-57de10415c02",
   "metadata": {},
   "outputs": [],
   "source": [
    "# load information\n",
    "info_path = '/mnt/ampa02_data01/tmurakami/model_training/info.pkl'\n",
    "lookup_path = '/mnt/ampa02_data01/tmurakami/model_training/norm_values.pkl'\n",
    "obj = pd.read_pickle(info_path)\n",
    "lookup = pd.read_pickle(lookup_path)\n",
    "# image path\n",
    "save_path = '/mnt/ampa02_data01/tmurakami/model_training/crops'"
   ]
  },
  {
   "cell_type": "code",
   "execution_count": null,
   "id": "e90081fb-4559-4979-92b4-2bbf2cff8761",
   "metadata": {
    "scrolled": true,
    "tags": []
   },
   "outputs": [],
   "source": [
    "for i in tqdm(range(obj.shape[0])):\n",
    "    # print(i)\n",
    "    n5_path = obj.loc[i,'source']\n",
    "\n",
    "    # create Zarr file object\n",
    "    img_zarr = zarr.open(store=zarr.N5Store(n5_path), mode='r')\n",
    "\n",
    "    corner_positions = obj.loc[i,'corner']\n",
    "    crop_size = obj.loc[i,'crop_size']\n",
    "    segment_chan = obj.loc[i,'channel']\n",
    "    reference_chan = obj.loc[i,'ref_channel']\n",
    "    plane_position = int(obj.loc[i,'plane_position'])\n",
    "\n",
    "    # load images according to the input parameters.\n",
    "    n5_setups = list(img_zarr.keys())\n",
    "    img_ref = img_zarr[n5_setups[reference_chan]]['timepoint0']['s0']\n",
    "    img_ref_ = img_ref[tuple(slice(i,i+j) for i,j in zip(corner_positions, crop_size))][plane_position,...]\n",
    "    img_ref_norm = (img_ref_.astype(float) - lookup[n5_path][reference_chan]['lower']) / (lookup[n5_path][reference_chan]['upper'] - lookup[n5_path][reference_chan]['lower'])\n",
    "\n",
    "    img = img_zarr[n5_setups[segment_chan]]['timepoint0']['s0']\n",
    "    img_ = img[tuple(slice(i,i+j) for i,j in zip(corner_positions, crop_size))][plane_position,...]\n",
    "    img_norm = (img_.astype(float) - lookup[n5_path][segment_chan]['lower']) / (lookup[n5_path][segment_chan]['upper'] - lookup[n5_path][segment_chan]['lower'])\n",
    "\n",
    "\n",
    "    imgs = np.stack([img_ref_norm,img_norm])\n",
    "    prefix = str(i)\n",
    "    while len(prefix) < 4:\n",
    "        prefix = '0' + prefix\n",
    "        \n",
    "        \n",
    "    img_path = os.path.join(save_path, prefix+'_img_norm.tif')\n",
    "    io.imsave(img_path, imgs, plugin='tifffile', metadata={'axes': 'CYX'})"
   ]
  },
  {
   "cell_type": "code",
   "execution_count": null,
   "id": "5409b439-ceea-4459-85e6-db777483bbf9",
   "metadata": {},
   "outputs": [],
   "source": []
  }
 ],
 "metadata": {
  "kernelspec": {
   "display_name": "cellpose2",
   "language": "python",
   "name": "cellpose2"
  },
  "language_info": {
   "codemirror_mode": {
    "name": "ipython",
    "version": 3
   },
   "file_extension": ".py",
   "mimetype": "text/x-python",
   "name": "python",
   "nbconvert_exporter": "python",
   "pygments_lexer": "ipython3",
   "version": "3.8.19"
  }
 },
 "nbformat": 4,
 "nbformat_minor": 5
}
