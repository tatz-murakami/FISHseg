{
 "cells": [
  {
   "cell_type": "markdown",
   "metadata": {},
   "source": [
    "**In case of problems or questions, please first check the list of [Frequently Asked Questions (FAQ)](https://stardist.net/docs/faq.html).**\n",
    "\n",
    "Please shutdown all other training/prediction notebooks before running this notebook (as those might occupy the GPU memory otherwise)."
   ]
  },
  {
   "cell_type": "code",
   "execution_count": 1,
   "metadata": {},
   "outputs": [],
   "source": [
    "from __future__ import print_function, unicode_literals, absolute_import, division\n",
    "import sys\n",
    "import numpy as np\n",
    "# import matplotlib\n",
    "# matplotlib.rcParams[\"image.interpolation\"] = None\n",
    "# import matplotlib.pyplot as plt\n",
    "# %matplotlib inline\n",
    "# %config InlineBackend.figure_format = 'retina'\n",
    "\n",
    "from glob import glob\n",
    "from tifffile import imread\n",
    "from csbdeep.utils import Path, normalize\n",
    "from csbdeep.io import save_tiff_imagej_compatible\n",
    "\n",
    "# from stardist import random_label_cmap\n",
    "from stardist.models import StarDist3D\n",
    "\n",
    "np.random.seed(6)\n",
    "# lbl_cmap = random_label_cmap()\n",
    "\n",
    "import zarr\n",
    "import napari\n",
    "\n",
    "from cupyx.scipy import ndimage\n",
    "import cupy as cp"
   ]
  },
  {
   "cell_type": "code",
   "execution_count": 2,
   "metadata": {
    "tags": []
   },
   "outputs": [],
   "source": [
    "#moved_path = '/mnt/ampa_data01/tmurakami/220310_0004_R01/R03_R01/R03ch640_to_R01.zarr'\n",
    "moved_path = '/mnt/ampa_data01/tmurakami/220310_0004_R01/ch785.zarr'\n",
    "#moved_path = '/mnt/ampa_data01/tmurakami/220321_0004_R02/ch561.zarr'\n",
    "#moved_path = '/mnt/ampa_data01/tmurakami/220329_0004_R03/ch640.zarr'\n",
    "\n",
    "img_raw = zarr.open(moved_path)['0']\n",
    "window_size = 256\n",
    "z_start = 401#878#\n",
    "y_start = 2904#2424#\n",
    "x_start = 1860#5936#\n",
    "img_raw = img_raw[z_start:z_start+window_size,y_start:y_start+window_size,x_start:x_start+window_size]\n",
    "\n",
    "# n_channel = 1 # if X[0].ndim == 3 else X[0].shape[-1]\n",
    "# axis_norm = (0,1,2)   # normalize channels independently\n",
    "# axis_norm = (0,1,2,3) # normalize channels jointly\n",
    "# if n_channel > 1:\n",
    "#     print(\"Normalizing image channels %s.\" % ('jointly' if axis_norm is None or 2 in axis_norm else 'independently'))\n",
    "\n",
    "# img = normalize(img_raw, 1,99.8, axis=axis_norm)\n",
    "\n",
    "# GPU percentile normalization\n",
    "footprint=np.ones((1,5,100))\n",
    "img_raw_cp = cp.asarray(img_raw)\n",
    "img_high = ndimage.percentile_filter(img_raw_cp,99,footprint=footprint)\n",
    "img_low = ndimage.percentile_filter(img_raw_cp,1,footprint=footprint)\n",
    "img = (img_raw.astype(float) - img_low.get()) / (img_high.get() - img_low.get())"
   ]
  },
  {
   "cell_type": "code",
   "execution_count": 3,
   "metadata": {
    "collapsed": true,
    "jupyter": {
     "outputs_hidden": true
    },
    "tags": []
   },
   "outputs": [
    {
     "ename": "FileNotFoundError",
     "evalue": "config file doesn't exist: /home/tmurakami/src/stardist_notebooks/models_06/stardist/config.json",
     "output_type": "error",
     "traceback": [
      "\u001b[0;31m---------------------------------------------------------------------------\u001b[0m",
      "\u001b[0;31mFileNotFoundError\u001b[0m                         Traceback (most recent call last)",
      "Input \u001b[0;32mIn [3]\u001b[0m, in \u001b[0;36m<cell line: 3>\u001b[0;34m()\u001b[0m\n\u001b[1;32m      1\u001b[0m \u001b[38;5;66;03m### load trained model\u001b[39;00m\n\u001b[0;32m----> 3\u001b[0m model \u001b[38;5;241m=\u001b[39m \u001b[43mStarDist3D\u001b[49m\u001b[43m(\u001b[49m\u001b[38;5;28;43;01mNone\u001b[39;49;00m\u001b[43m,\u001b[49m\u001b[43m \u001b[49m\u001b[43mname\u001b[49m\u001b[38;5;241;43m=\u001b[39;49m\u001b[38;5;124;43m'\u001b[39;49m\u001b[38;5;124;43mstardist\u001b[39;49m\u001b[38;5;124;43m'\u001b[39;49m\u001b[43m,\u001b[49m\u001b[43m \u001b[49m\u001b[43mbasedir\u001b[49m\u001b[38;5;241;43m=\u001b[39;49m\u001b[38;5;124;43m'\u001b[39;49m\u001b[38;5;124;43mmodels_06\u001b[39;49m\u001b[38;5;124;43m'\u001b[39;49m\u001b[43m)\u001b[49m\n",
      "File \u001b[0;32m~/app/miniconda3/envs/stardist/lib/python3.8/site-packages/stardist/models/model3d.py:329\u001b[0m, in \u001b[0;36mStarDist3D.__init__\u001b[0;34m(self, config, name, basedir)\u001b[0m\n\u001b[1;32m    327\u001b[0m \u001b[38;5;28;01mdef\u001b[39;00m \u001b[38;5;21m__init__\u001b[39m(\u001b[38;5;28mself\u001b[39m, config\u001b[38;5;241m=\u001b[39mConfig3D(), name\u001b[38;5;241m=\u001b[39m\u001b[38;5;28;01mNone\u001b[39;00m, basedir\u001b[38;5;241m=\u001b[39m\u001b[38;5;124m'\u001b[39m\u001b[38;5;124m.\u001b[39m\u001b[38;5;124m'\u001b[39m):\n\u001b[1;32m    328\u001b[0m     \u001b[38;5;124;03m\"\"\"See class docstring.\"\"\"\u001b[39;00m\n\u001b[0;32m--> 329\u001b[0m     \u001b[38;5;28;43msuper\u001b[39;49m\u001b[43m(\u001b[49m\u001b[43m)\u001b[49m\u001b[38;5;241;43m.\u001b[39;49m\u001b[38;5;21;43m__init__\u001b[39;49m\u001b[43m(\u001b[49m\u001b[43mconfig\u001b[49m\u001b[43m,\u001b[49m\u001b[43m \u001b[49m\u001b[43mname\u001b[49m\u001b[38;5;241;43m=\u001b[39;49m\u001b[43mname\u001b[49m\u001b[43m,\u001b[49m\u001b[43m \u001b[49m\u001b[43mbasedir\u001b[49m\u001b[38;5;241;43m=\u001b[39;49m\u001b[43mbasedir\u001b[49m\u001b[43m)\u001b[49m\n",
      "File \u001b[0;32m~/app/miniconda3/envs/stardist/lib/python3.8/site-packages/stardist/models/base.py:222\u001b[0m, in \u001b[0;36mStarDistBase.__init__\u001b[0;34m(self, config, name, basedir)\u001b[0m\n\u001b[1;32m    221\u001b[0m \u001b[38;5;28;01mdef\u001b[39;00m \u001b[38;5;21m__init__\u001b[39m(\u001b[38;5;28mself\u001b[39m, config, name\u001b[38;5;241m=\u001b[39m\u001b[38;5;28;01mNone\u001b[39;00m, basedir\u001b[38;5;241m=\u001b[39m\u001b[38;5;124m'\u001b[39m\u001b[38;5;124m.\u001b[39m\u001b[38;5;124m'\u001b[39m):\n\u001b[0;32m--> 222\u001b[0m     \u001b[38;5;28;43msuper\u001b[39;49m\u001b[43m(\u001b[49m\u001b[43m)\u001b[49m\u001b[38;5;241;43m.\u001b[39;49m\u001b[38;5;21;43m__init__\u001b[39;49m\u001b[43m(\u001b[49m\u001b[43mconfig\u001b[49m\u001b[38;5;241;43m=\u001b[39;49m\u001b[43mconfig\u001b[49m\u001b[43m,\u001b[49m\u001b[43m \u001b[49m\u001b[43mname\u001b[49m\u001b[38;5;241;43m=\u001b[39;49m\u001b[43mname\u001b[49m\u001b[43m,\u001b[49m\u001b[43m \u001b[49m\u001b[43mbasedir\u001b[49m\u001b[38;5;241;43m=\u001b[39;49m\u001b[43mbasedir\u001b[49m\u001b[43m)\u001b[49m\n\u001b[1;32m    223\u001b[0m     threshs \u001b[38;5;241m=\u001b[39m \u001b[38;5;28mdict\u001b[39m(prob\u001b[38;5;241m=\u001b[39m\u001b[38;5;28;01mNone\u001b[39;00m, nms\u001b[38;5;241m=\u001b[39m\u001b[38;5;28;01mNone\u001b[39;00m)\n\u001b[1;32m    224\u001b[0m     \u001b[38;5;28;01mif\u001b[39;00m basedir \u001b[38;5;129;01mis\u001b[39;00m \u001b[38;5;129;01mnot\u001b[39;00m \u001b[38;5;28;01mNone\u001b[39;00m:\n",
      "File \u001b[0;32m~/app/miniconda3/envs/stardist/lib/python3.8/site-packages/csbdeep/models/base_model.py:106\u001b[0m, in \u001b[0;36mBaseModel.__init__\u001b[0;34m(self, config, name, basedir)\u001b[0m\n\u001b[1;32m    103\u001b[0m \u001b[38;5;28;01mif\u001b[39;00m config \u001b[38;5;129;01mis\u001b[39;00m \u001b[38;5;129;01mnot\u001b[39;00m \u001b[38;5;28;01mNone\u001b[39;00m:\n\u001b[1;32m    104\u001b[0m     \u001b[38;5;66;03m# config was provided -> update before it is saved to disk\u001b[39;00m\n\u001b[1;32m    105\u001b[0m     \u001b[38;5;28mself\u001b[39m\u001b[38;5;241m.\u001b[39m_update_and_check_config()\n\u001b[0;32m--> 106\u001b[0m \u001b[38;5;28;43mself\u001b[39;49m\u001b[38;5;241;43m.\u001b[39;49m\u001b[43m_set_logdir\u001b[49m\u001b[43m(\u001b[49m\u001b[43m)\u001b[49m\n\u001b[1;32m    107\u001b[0m \u001b[38;5;28;01mif\u001b[39;00m config \u001b[38;5;129;01mis\u001b[39;00m \u001b[38;5;28;01mNone\u001b[39;00m:\n\u001b[1;32m    108\u001b[0m     \u001b[38;5;66;03m# config was loaded from disk -> update it after loading\u001b[39;00m\n\u001b[1;32m    109\u001b[0m     \u001b[38;5;28mself\u001b[39m\u001b[38;5;241m.\u001b[39m_update_and_check_config()\n",
      "File \u001b[0;32m~/app/miniconda3/envs/stardist/lib/python3.8/site-packages/csbdeep/models/base_model.py:32\u001b[0m, in \u001b[0;36msuppress_without_basedir.<locals>._suppress_without_basedir.<locals>.wrapper\u001b[0;34m(*args, **kwargs)\u001b[0m\n\u001b[1;32m     30\u001b[0m     warn \u001b[38;5;129;01mis\u001b[39;00m \u001b[38;5;28;01mFalse\u001b[39;00m \u001b[38;5;129;01mor\u001b[39;00m warnings\u001b[38;5;241m.\u001b[39mwarn(\u001b[38;5;124m\"\u001b[39m\u001b[38;5;124mSuppressing call of \u001b[39m\u001b[38;5;124m'\u001b[39m\u001b[38;5;132;01m%s\u001b[39;00m\u001b[38;5;124m'\u001b[39m\u001b[38;5;124m (due to basedir=None).\u001b[39m\u001b[38;5;124m\"\u001b[39m \u001b[38;5;241m%\u001b[39m f\u001b[38;5;241m.\u001b[39m\u001b[38;5;18m__name__\u001b[39m)\n\u001b[1;32m     31\u001b[0m \u001b[38;5;28;01melse\u001b[39;00m:\n\u001b[0;32m---> 32\u001b[0m     \u001b[38;5;28;01mreturn\u001b[39;00m \u001b[43mf\u001b[49m\u001b[43m(\u001b[49m\u001b[38;5;241;43m*\u001b[39;49m\u001b[43margs\u001b[49m\u001b[43m,\u001b[49m\u001b[43m \u001b[49m\u001b[38;5;241;43m*\u001b[39;49m\u001b[38;5;241;43m*\u001b[39;49m\u001b[43mkwargs\u001b[49m\u001b[43m)\u001b[49m\n",
      "File \u001b[0;32m~/app/miniconda3/envs/stardist/lib/python3.8/site-packages/csbdeep/models/base_model.py:145\u001b[0m, in \u001b[0;36mBaseModel._set_logdir\u001b[0;34m(self)\u001b[0m\n\u001b[1;32m    143\u001b[0m             \u001b[38;5;28;01mraise\u001b[39;00m \u001b[38;5;167;01mValueError\u001b[39;00m(\u001b[38;5;124m'\u001b[39m\u001b[38;5;124mInvalid attributes in loaded config: \u001b[39m\u001b[38;5;124m'\u001b[39m \u001b[38;5;241m+\u001b[39m \u001b[38;5;124m'\u001b[39m\u001b[38;5;124m, \u001b[39m\u001b[38;5;124m'\u001b[39m\u001b[38;5;241m.\u001b[39mjoin(invalid_attr))\n\u001b[1;32m    144\u001b[0m     \u001b[38;5;28;01melse\u001b[39;00m:\n\u001b[0;32m--> 145\u001b[0m         \u001b[38;5;28;01mraise\u001b[39;00m \u001b[38;5;167;01mFileNotFoundError\u001b[39;00m(\u001b[38;5;124m\"\u001b[39m\u001b[38;5;124mconfig file doesn\u001b[39m\u001b[38;5;124m'\u001b[39m\u001b[38;5;124mt exist: \u001b[39m\u001b[38;5;132;01m%s\u001b[39;00m\u001b[38;5;124m\"\u001b[39m \u001b[38;5;241m%\u001b[39m \u001b[38;5;28mstr\u001b[39m(config_file\u001b[38;5;241m.\u001b[39mresolve()))\n\u001b[1;32m    146\u001b[0m \u001b[38;5;28;01melse\u001b[39;00m:\n\u001b[1;32m    147\u001b[0m     \u001b[38;5;28;01mif\u001b[39;00m \u001b[38;5;28mself\u001b[39m\u001b[38;5;241m.\u001b[39mlogdir\u001b[38;5;241m.\u001b[39mexists():\n",
      "\u001b[0;31mFileNotFoundError\u001b[0m: config file doesn't exist: /home/tmurakami/src/stardist_notebooks/models_06/stardist/config.json"
     ]
    }
   ],
   "source": [
    "### load trained model\n",
    "\n",
    "model = StarDist3D(None, name='stardist', basedir='models_06')\n",
    "# help(model.predict_instances)"
   ]
  },
  {
   "cell_type": "code",
   "execution_count": 13,
   "metadata": {},
   "outputs": [
    {
     "name": "stderr",
     "output_type": "stream",
     "text": [
      "  0%|                                                                                                                                            | 0/8 [00:00<?, ?it/s]"
     ]
    },
    {
     "name": "stdout",
     "output_type": "stream",
     "text": [
      "1/1 [==============================] - 0s 56ms/step\n"
     ]
    },
    {
     "name": "stderr",
     "output_type": "stream",
     "text": [
      " 12%|████████████████▌                                                                                                                   | 1/8 [00:01<00:08,  1.18s/it]"
     ]
    },
    {
     "name": "stdout",
     "output_type": "stream",
     "text": [
      "1/1 [==============================] - 0s 56ms/step\n"
     ]
    },
    {
     "name": "stderr",
     "output_type": "stream",
     "text": [
      " 25%|█████████████████████████████████                                                                                                   | 2/8 [00:02<00:07,  1.18s/it]"
     ]
    },
    {
     "name": "stdout",
     "output_type": "stream",
     "text": [
      "1/1 [==============================] - 0s 55ms/step\n"
     ]
    },
    {
     "name": "stderr",
     "output_type": "stream",
     "text": [
      " 38%|█████████████████████████████████████████████████▌                                                                                  | 3/8 [00:03<00:05,  1.18s/it]"
     ]
    },
    {
     "name": "stdout",
     "output_type": "stream",
     "text": [
      "1/1 [==============================] - 0s 53ms/step\n"
     ]
    },
    {
     "name": "stderr",
     "output_type": "stream",
     "text": [
      " 50%|██████████████████████████████████████████████████████████████████                                                                  | 4/8 [00:04<00:04,  1.18s/it]"
     ]
    },
    {
     "name": "stdout",
     "output_type": "stream",
     "text": [
      "1/1 [==============================] - 0s 56ms/step\n"
     ]
    },
    {
     "name": "stderr",
     "output_type": "stream",
     "text": [
      " 62%|██████████████████████████████████████████████████████████████████████████████████▌                                                 | 5/8 [00:05<00:03,  1.18s/it]"
     ]
    },
    {
     "name": "stdout",
     "output_type": "stream",
     "text": [
      "1/1 [==============================] - 0s 54ms/step\n"
     ]
    },
    {
     "name": "stderr",
     "output_type": "stream",
     "text": [
      " 75%|███████████████████████████████████████████████████████████████████████████████████████████████████                                 | 6/8 [00:07<00:02,  1.18s/it]"
     ]
    },
    {
     "name": "stdout",
     "output_type": "stream",
     "text": [
      "1/1 [==============================] - 0s 56ms/step\n"
     ]
    },
    {
     "name": "stderr",
     "output_type": "stream",
     "text": [
      " 88%|███████████████████████████████████████████████████████████████████████████████████████████████████████████████████▌                | 7/8 [00:08<00:01,  1.18s/it]"
     ]
    },
    {
     "name": "stdout",
     "output_type": "stream",
     "text": [
      "1/1 [==============================] - 0s 57ms/step\n"
     ]
    },
    {
     "name": "stderr",
     "output_type": "stream",
     "text": [
      "100%|████████████████████████████████████████████████████████████████████████████████████████████████████████████████████████████████████| 8/8 [00:09<00:00,  1.18s/it]\n"
     ]
    },
    {
     "name": "stdout",
     "output_type": "stream",
     "text": [
      "CPU times: user 27min 9s, sys: 10.6 s, total: 27min 19s\n",
      "Wall time: 37.7 s\n"
     ]
    }
   ],
   "source": [
    "%%time\n",
    "# https://github.com/stardist/stardist/issues/36\n",
    "# https://github.com/stardist/stardist/blob/0d9dffbb6b010e0802e0a1267b8fd60b7f6838cf/stardist/models/base.py#L432\n",
    "\n",
    "labels, details = model.predict_instances(img, n_tiles=(2,2,2), show_tile_progress=True)\n",
    "# labels, details = model.predict_instances_big(img,axes='ZYX',block_size=(256, 256, 256), min_overlap=48, context=64, show_progress=True)\n",
    "# labels, details = model.predict_instances_big(img_raw,axes='ZYX',block_size=(1488, 1024, 1024), min_overlap=48, context=64, show_progress=True, n_tiles=(5,3,3))"
   ]
  },
  {
   "cell_type": "code",
   "execution_count": 5,
   "metadata": {},
   "outputs": [
    {
     "data": {
      "text/plain": [
       "<Labels layer 'labels' at 0x7f7124780400>"
      ]
     },
     "execution_count": 5,
     "metadata": {},
     "output_type": "execute_result"
    }
   ],
   "source": [
    "viewer = napari.Viewer()\n",
    "#viewer.add_image(img_raw, contrast_limits=[0, 15000], rgb=False, name='image01' , colormap='gray' ,blending='additive')\n",
    "viewer.add_image(img_raw, rgb=False, name='image01' , colormap='gray' ,blending='additive')\n",
    "viewer.add_image(img, rgb=False, name='image_norm' , colormap='gray' ,blending='additive')\n",
    "viewer.add_labels(labels)"
   ]
  },
  {
   "cell_type": "code",
   "execution_count": 5,
   "metadata": {},
   "outputs": [],
   "source": [
    "# next round normalization based on cells\n",
    "from skimage.measure import regionprops, regionprops_table\n",
    "import pandas as pd\n",
    "from scipy import interpolate\n",
    "from scipy.spatial import Delaunay\n",
    "from scipy.spatial import KDTree"
   ]
  },
  {
   "cell_type": "code",
   "execution_count": 6,
   "metadata": {},
   "outputs": [],
   "source": [
    "# to boost interpolation\n",
    "# https://stackoverflow.com/questions/20915502/speedup-scipy-griddata-for-multiple-interpolations-between-two-irregular-grids\n",
    "# https://stackoverflow.com/questions/51858194/storing-the-weights-used-by-scipy-griddata-for-re-use/51937990#51937990"
   ]
  },
  {
   "cell_type": "code",
   "execution_count": 14,
   "metadata": {},
   "outputs": [],
   "source": [
    "props = pd.DataFrame(regionprops_table(labels, intensity_image=img_raw, properties=('label','centroid','intensity_max')))\n",
    "coords = props.loc[:,['centroid-0','centroid-1','centroid-2']].round().to_numpy().astype(int)\n",
    "intensity_max = props.loc[:,['intensity_max']].to_numpy().flatten()\n",
    "\n",
    "shape = img_raw.shape\n",
    "edge_coords = np.asarray([\n",
    "    [0,0,0],\n",
    "    [shape[0]-1,0,0],\n",
    "    [0,shape[1]-1,0],\n",
    "    [0,0,shape[2]-1],\n",
    "    [shape[0]-1,shape[1]-1,0],\n",
    "    [shape[0]-1,0,shape[2]-1],\n",
    "    [0,shape[1]-1,shape[2]-1],\n",
    "    [shape[0]-1,shape[1]-1,shape[2]-1]\n",
    "])\n",
    "tree = KDTree(coords)\n",
    "edge_intensity = intensity_max[tree.query(edge_coords)[1]]\n",
    "\n",
    "coords = np.vstack([coords,edge_coords]) \n",
    "intensity_max = np.hstack([intensity_max,edge_intensity]) \n",
    "\n",
    "tri = Delaunay(coords)\n",
    "interpolator = interpolate.LinearNDInterpolator(tri, intensity_max)"
   ]
  },
  {
   "cell_type": "code",
   "execution_count": 15,
   "metadata": {},
   "outputs": [
    {
     "name": "stdout",
     "output_type": "stream",
     "text": [
      "CPU times: user 10.5 s, sys: 4.6 s, total: 15.1 s\n",
      "Wall time: 9.55 s\n"
     ]
    }
   ],
   "source": [
    "%%time\n",
    "z = np.linspace(0, img_raw.shape[0]-1, img_raw.shape[0])\n",
    "y = np.linspace(0, img_raw.shape[1]-1, img_raw.shape[1])\n",
    "x = np.linspace(0, img_raw.shape[2]-1, img_raw.shape[2])\n",
    "zg, yg ,xg = np.meshgrid(z, y, x, indexing='ij', sparse=True)\n",
    "local_max = interpolator((zg,yg,xg))\n",
    "\n",
    "img2 = (img_raw.astype(float) - img_low.get()) / (local_max - img_low.get())\n",
    "img2[img2>2.0]=2.0\n",
    "img2[img2<-1.0]=-1.0"
   ]
  },
  {
   "cell_type": "code",
   "execution_count": 16,
   "metadata": {},
   "outputs": [
    {
     "name": "stderr",
     "output_type": "stream",
     "text": [
      "base.py (680): Setting sparse to False because return_predict is True\n",
      "  0%|                                                                                                                                            | 0/8 [00:00<?, ?it/s]"
     ]
    },
    {
     "name": "stdout",
     "output_type": "stream",
     "text": [
      "1/1 [==============================] - 0s 54ms/step\n"
     ]
    },
    {
     "name": "stderr",
     "output_type": "stream",
     "text": [
      " 12%|████████████████▌                                                                                                                   | 1/8 [00:01<00:07,  1.09s/it]"
     ]
    },
    {
     "name": "stdout",
     "output_type": "stream",
     "text": [
      "1/1 [==============================] - 0s 56ms/step\n"
     ]
    },
    {
     "name": "stderr",
     "output_type": "stream",
     "text": [
      " 25%|█████████████████████████████████                                                                                                   | 2/8 [00:02<00:06,  1.07s/it]"
     ]
    },
    {
     "name": "stdout",
     "output_type": "stream",
     "text": [
      "1/1 [==============================] - 0s 55ms/step\n"
     ]
    },
    {
     "name": "stderr",
     "output_type": "stream",
     "text": [
      " 38%|█████████████████████████████████████████████████▌                                                                                  | 3/8 [00:03<00:05,  1.07s/it]"
     ]
    },
    {
     "name": "stdout",
     "output_type": "stream",
     "text": [
      "1/1 [==============================] - 0s 56ms/step\n"
     ]
    },
    {
     "name": "stderr",
     "output_type": "stream",
     "text": [
      " 50%|██████████████████████████████████████████████████████████████████                                                                  | 4/8 [00:04<00:04,  1.06s/it]"
     ]
    },
    {
     "name": "stdout",
     "output_type": "stream",
     "text": [
      "1/1 [==============================] - 0s 54ms/step\n"
     ]
    },
    {
     "name": "stderr",
     "output_type": "stream",
     "text": [
      " 62%|██████████████████████████████████████████████████████████████████████████████████▌                                                 | 5/8 [00:05<00:03,  1.07s/it]"
     ]
    },
    {
     "name": "stdout",
     "output_type": "stream",
     "text": [
      "1/1 [==============================] - 0s 56ms/step\n"
     ]
    },
    {
     "name": "stderr",
     "output_type": "stream",
     "text": [
      " 75%|███████████████████████████████████████████████████████████████████████████████████████████████████                                 | 6/8 [00:06<00:02,  1.07s/it]"
     ]
    },
    {
     "name": "stdout",
     "output_type": "stream",
     "text": [
      "1/1 [==============================] - 0s 55ms/step\n"
     ]
    },
    {
     "name": "stderr",
     "output_type": "stream",
     "text": [
      " 88%|███████████████████████████████████████████████████████████████████████████████████████████████████████████████████▌                | 7/8 [00:07<00:01,  1.06s/it]"
     ]
    },
    {
     "name": "stdout",
     "output_type": "stream",
     "text": [
      "1/1 [==============================] - 0s 55ms/step\n"
     ]
    },
    {
     "name": "stderr",
     "output_type": "stream",
     "text": [
      "100%|████████████████████████████████████████████████████████████████████████████████████████████████████████████████████████████████████| 8/8 [00:08<00:00,  1.06s/it]\n"
     ]
    },
    {
     "name": "stdout",
     "output_type": "stream",
     "text": [
      "CPU times: user 25min 4s, sys: 9.58 s, total: 25min 14s\n",
      "Wall time: 35.6 s\n"
     ]
    }
   ],
   "source": [
    "%%time\n",
    "#labels2, details2 = model.predict_instances(img2, show_tile_progress=True,return_predict=True)\n",
    "labels2, details2 = model.predict_instances(img2, n_tiles=(2,2,2), show_tile_progress=True,return_predict=True)"
   ]
  },
  {
   "cell_type": "code",
   "execution_count": 9,
   "metadata": {},
   "outputs": [],
   "source": [
    "from skimage.transform import rescale"
   ]
  },
  {
   "cell_type": "code",
   "execution_count": 19,
   "metadata": {},
   "outputs": [
    {
     "data": {
      "text/plain": [
       "<Image layer 'prob' at 0x7f34c5e73040>"
      ]
     },
     "execution_count": 19,
     "metadata": {},
     "output_type": "execute_result"
    }
   ],
   "source": [
    "viewer = napari.Viewer()\n",
    "#viewer.add_image(img_raw, contrast_limits=[0, 15000], rgb=False, name='image01' , colormap='gray' ,blending='additive')\n",
    "viewer.add_image(img_raw, rgb=False, name='image01' , colormap='gray' ,blending='additive')\n",
    "viewer.add_image(img, rgb=False, name='image_norm' , colormap='gray' ,blending='additive')\n",
    "viewer.add_image(img2, rgb=False, name='image_norm2' , colormap='gray' ,blending='additive')\n",
    "viewer.add_labels(labels)\n",
    "viewer.add_labels(labels2[0])\n",
    "viewer.add_image(rescale(details2[0],2,preserve_range=True), rgb=False, name='prob' , colormap='gray' ,blending='additive')"
   ]
  },
  {
   "cell_type": "code",
   "execution_count": 44,
   "metadata": {},
   "outputs": [
    {
     "name": "stderr",
     "output_type": "stream",
     "text": [
      "__init__.py (40): Converting data type from 'int32' to ImageJ-compatible 'int16'.\n"
     ]
    }
   ],
   "source": [
    "save_tiff_imagej_compatible('/mnt/ampa_data01/tmurakami/conf_proc/whole_brain_seg/manual_check/R03_640.tif', img_raw, axes='ZYX')\n",
    "save_tiff_imagej_compatible('/mnt/ampa_data01/tmurakami/conf_proc/whole_brain_seg/manual_check/R03_640_model04.tif', labels2, axes='ZYX')"
   ]
  },
  {
   "cell_type": "code",
   "execution_count": 19,
   "metadata": {},
   "outputs": [],
   "source": [
    "save_tiff_imagej_compatible('/mnt/ampa_data01/tmurakami/conf_proc/whole_brain_seg/manual_check/R01_561_prob.tif', rescale(details2[0],2,preserve_range=True), axes='ZYX')"
   ]
  },
  {
   "cell_type": "code",
   "execution_count": 18,
   "metadata": {},
   "outputs": [],
   "source": [
    "#"
   ]
  },
  {
   "cell_type": "code",
   "execution_count": 22,
   "metadata": {},
   "outputs": [],
   "source": [
    "prob_ref = imread('/mnt/ampa_data01/tmurakami/conf_proc/whole_brain_seg/manual_check/R02_561_prob.tif')\n",
    "prob = imread('/mnt/ampa_data01/tmurakami/conf_proc/whole_brain_seg/manual_check/R01_561_prob.tif')"
   ]
  },
  {
   "cell_type": "code",
   "execution_count": 43,
   "metadata": {},
   "outputs": [],
   "source": [
    "props = pd.DataFrame(regionprops_table(labels2[0],intensity_image=prob_ref*prob,properties=('label','intensity_max','intensity_mean')))"
   ]
  },
  {
   "cell_type": "code",
   "execution_count": 36,
   "metadata": {
    "tags": []
   },
   "outputs": [],
   "source": [
    "import matplotlib.pyplot as plt\n",
    "from skimage.filters import threshold_otsu"
   ]
  },
  {
   "cell_type": "code",
   "execution_count": 44,
   "metadata": {},
   "outputs": [
    {
     "name": "stdout",
     "output_type": "stream",
     "text": [
      "-3.025661791172103\n"
     ]
    },
    {
     "data": {
      "image/png": "[encoded data removed]",
      "text/plain": [
       "<Figure size 432x288 with 1 Axes>"
      ]
     },
     "metadata": {
      "needs_background": "light"
     },
     "output_type": "display_data"
    }
   ],
   "source": [
    "mean_joint_prob = props['intensity_mean'].to_numpy()\n",
    "plt.hist(np.log10(mean_joint_prob),bins=100)\n",
    "print(threshold_otsu(np.log10(mean_joint_prob)))\n",
    "thresh = threshold_otsu(np.log10(mean_joint_prob))"
   ]
  },
  {
   "cell_type": "code",
   "execution_count": 50,
   "metadata": {},
   "outputs": [],
   "source": [
    "filtered_ids = props['label'][np.log10(mean_joint_prob)>=bools].to_numpy()\n",
    "filtered_labels = labels2[0] * np.isin(labels2[0],filtered_ids)"
   ]
  },
  {
   "cell_type": "code",
   "execution_count": 51,
   "metadata": {},
   "outputs": [
    {
     "name": "stderr",
     "output_type": "stream",
     "text": [
      "__init__.py (40): Converting data type from 'int32' to ImageJ-compatible 'int16'.\n"
     ]
    }
   ],
   "source": [
    "save_tiff_imagej_compatible('/mnt/ampa_data01/tmurakami/conf_proc/whole_brain_seg/manual_check/R01_561_model04_filtered.tif', filtered_labels, axes='ZYX')"
   ]
  },
  {
   "cell_type": "code",
   "execution_count": null,
   "metadata": {},
   "outputs": [],
   "source": []
  }
 ],
 "metadata": {
  "kernelspec": {
   "display_name": "stardist",
   "language": "python",
   "name": "stardist"
  },
  "language_info": {
   "codemirror_mode": {
    "name": "ipython",
    "version": 3
   },
   "file_extension": ".py",
   "mimetype": "text/x-python",
   "name": "python",
   "nbconvert_exporter": "python",
   "pygments_lexer": "ipython3",
   "version": "3.8.13"
  }
 },
 "nbformat": 4,
 "nbformat_minor": 4
}
