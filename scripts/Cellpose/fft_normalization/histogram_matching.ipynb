{
 "cells": [
  {
   "cell_type": "code",
   "execution_count": null,
   "id": "1887e8b5-2b04-4ae8-9571-0aa00a6c086e",
   "metadata": {
    "tags": []
   },
   "outputs": [],
   "source": [
    "import numpy as np\n",
    "import napari\n",
    "import zarr\n",
    "from skimage.exposure import match_histograms\n",
    "import dask.array as da\n",
    "import os\n",
    "from ome_zarr.writer import write_multiscales_metadata\n",
    "from ome_zarr.io import parse_url\n",
    "from ome_zarr.reader import Reader\n",
    "from tqdm import tqdm\n",
    "import mFISHwarp.utils\n",
    "import mFISHwarp.zarr\n",
    "\n",
    "import ray"
   ]
  },
  {
   "cell_type": "code",
   "execution_count": null,
   "id": "41b55e65-4b81-42de-9557-0cb6c4bd325b",
   "metadata": {},
   "outputs": [],
   "source": [
    "# read the source\n",
    "# image path\n",
    "# '/mnt/ampa02_data01/tmurakami/240425_whole_4color_2nd_M037-3pb/fused/fused.n5'\n",
    "# '/mnt/ampa02_data01/tmurakami/240417_whole_4color_1st_M037-3pb/fused/fused.n5'\n",
    "data_path = '/mnt/ampa02_data01/tmurakami/240425_whole_4color_2nd_M037-3pb/fused/fused.n5'\n",
    "resolution = 0\n",
    "chunk_size = (256,256,256)\n",
    "physical_scale = (1.0,2.0,1.3,1.3)\n",
    "# lazily load the data of the targeted resolution using dask\n",
    "_, ext = os.path.splitext(data_path)\n",
    "\n",
    "\n",
    "imgs = []\n",
    "if ext == '.n5': # n5 assume bigstitcher (bigdataviewer) format\n",
    "    # create Zarr file object\n",
    "    # load images according to the input parameters.\n",
    "    img_zarr = zarr.open(store=zarr.N5Store(data_path), mode='r')\n",
    "    n5_setups = list(img_zarr.keys())\n",
    "    res_list = list(img_zarr[n5_setups[0]]['timepoint0'].keys())\n",
    "    \n",
    "    for n5_setup in n5_setups:\n",
    "        imgs.append(da.from_zarr(img_zarr[n5_setup]['timepoint0'][res_list[resolution]]))\n",
    "    imgs = da.stack(imgs)\n",
    "        \n",
    "\n",
    "elif ext == '.zarr': # zarr assumes ome-zarr\n",
    "    # read the image data\n",
    "    store = parse_url(data_path, mode=\"r\").store\n",
    "    reader = Reader(parse_url(data_path))\n",
    "    # nodes may include images, labels etc\n",
    "    nodes = list(reader())\n",
    "    # first node will be the image pixel data\n",
    "    image_node = nodes[0]\n",
    "\n",
    "    dask_data = image_node.data\n",
    "    imgs = dask_data[resolution]"
   ]
  },
  {
   "cell_type": "code",
   "execution_count": null,
   "id": "8ed148d3-37e2-435e-bafd-f8ae23e5f820",
   "metadata": {},
   "outputs": [],
   "source": [
    "# read the template\n",
    "target_path = '/mnt/ampa02_data01/tmurakami/240425_whole_4color_2nd_M037-3pb/fused/fft_norm_2_99p8.zarr'\n",
    "\n",
    "# read the image data\n",
    "store = parse_url(target_path, mode=\"r\").store\n",
    "root_target = zarr.group(store=store)\n",
    "reader = Reader(parse_url(target_path))\n",
    "# nodes may include images, labels etc\n",
    "nodes = list(reader())\n",
    "# first node will be the image pixel data\n",
    "image_node = nodes[0]\n",
    "\n",
    "dask_data = image_node.data\n",
    "imgs_target = dask_data[0]\n",
    "\n"
   ]
  },
  {
   "cell_type": "code",
   "execution_count": null,
   "id": "8a5809e0-42f2-436d-b326-527675ea2a12",
   "metadata": {},
   "outputs": [],
   "source": [
    "# calculate chunk size for analysis\n",
    "down_factors = [round(i//j) for i,j in zip(imgs.shape,imgs_target.shape)]\n",
    "target_chunk_size = mFISHwarp.utils.chunks_from_dask(imgs_target)\n",
    "chunk_size = [i*j for i, j in zip(down_factors,target_chunk_size)]\n",
    "# rechunk for analysis\n",
    "imgs = imgs.rechunk(chunk_size)\n",
    "# imgs = imgs.astype(np.float32)\n",
    "imgs_target = da.round(da.abs(imgs_target)).astype(np.uint16)"
   ]
  },
  {
   "cell_type": "code",
   "execution_count": null,
   "id": "a6e9ce77-05e8-4a1b-bae8-fcf47e83b1d2",
   "metadata": {},
   "outputs": [],
   "source": [
    "save_zarr_path = '/mnt/ampa02_data01/tmurakami/240425_whole_4color_2nd_M037-3pb/fused/hist_matched_abs.zarr'\n",
    "downscale_factor_pyramid = (1,2,2,2)\n",
    "pyramid_level = 5\n",
    "axes_info = ['c','z','y','x']\n",
    "\n",
    "## create zarr to save the histogram matched image.\n",
    "store = zarr.DirectoryStore(save_zarr_path, dimension_separator='/')\n",
    "root = zarr.group(store=store)\n",
    "\n",
    "# np.int16 may not be appropriate, but it works for now to reduce the datasize without clipping.\n",
    "data_zarr = root.create_dataset('0',shape=imgs.shape,chunks=chunk_size,dtype=np.uint16)\n",
    "\n",
    "# prepare metadata to zarr\n",
    "datasets = mFISHwarp.zarr.datasets_metadata_generator(physical_scale, downscale_factor=downscale_factor_pyramid, pyramid_level=pyramid_level)\n",
    "# create custom-made attrubute to save normalization parameter\n",
    "datasets[0]['target'] = target_path\n",
    "datasets[0]['norm_upper_percentile'] = root_target.attrs['multiscales'][0]['datasets'][0]['norm_upper_percentile']\n",
    "datasets[0]['norm_upper_values'] = root_target.attrs['multiscales'][0]['datasets'][0]['norm_upper_values']\n",
    "\n",
    "### write metadata for ome-zarr\n",
    "write_multiscales_metadata(root, datasets=datasets, axes=axes_info)"
   ]
  },
  {
   "cell_type": "code",
   "execution_count": null,
   "id": "b68564e0-70bc-4b11-bc48-aadbe6c90847",
   "metadata": {},
   "outputs": [],
   "source": [
    "index_list = list(np.ndindex(*imgs.numblocks))\n",
    "chunk_info = imgs.chunks"
   ]
  },
  {
   "cell_type": "code",
   "execution_count": null,
   "id": "bb5cc780-6a3e-4373-af1a-8ca546ffa1d9",
   "metadata": {},
   "outputs": [],
   "source": [
    "@ray.remote(num_cpus=1)\n",
    "def histmatch_to_target(index):\n",
    "    \n",
    "    target = imgs_target.blocks[index].compute()\n",
    "    source = imgs.blocks[index].compute()\n",
    "    \n",
    "    matched = match_histograms(source, target)\n",
    "    # to save data size, convert from float to int16. WARNING: this may cause the clipping.\n",
    "    \n",
    "    # matched = np.round(matched).astype(np.int16)    \n",
    "    slicer = tuple(slice(sum(i[:j]),sum(i[:j])+i[j]) for i, j in zip(chunk_info,index))\n",
    "\n",
    "    root['0'][slicer] = matched"
   ]
  },
  {
   "cell_type": "code",
   "execution_count": null,
   "id": "728d0e3a-7074-436c-b0ac-55f1da904809",
   "metadata": {},
   "outputs": [],
   "source": [
    "for index in index_list:\n",
    "    histmatch_to_target.remote(index)"
   ]
  },
  {
   "cell_type": "code",
   "execution_count": null,
   "id": "acc038cb-e96d-4c49-8240-b51bf2d2566a",
   "metadata": {},
   "outputs": [],
   "source": [
    "# make pyramid images\n",
    "data = da.from_zarr(root['0'])\n",
    "pyramid = mFISHwarp.zarr.pyramid_generator_from_dask(data, downscale_factor=downscale_factor_pyramid, pyramid_level=5, chunk=mFISHwarp.utils.chunks_from_dask(data))"
   ]
  },
  {
   "cell_type": "code",
   "execution_count": null,
   "id": "279c9d9d-9f7f-4ddb-a6b9-3efc5e39b1fd",
   "metadata": {},
   "outputs": [],
   "source": [
    "for resolution in range(pyramid_level):\n",
    "    if resolution == 0:\n",
    "        pass\n",
    "    else:\n",
    "        arr = pyramid[resolution]\n",
    "        p = root.create_dataset(str(resolution),shape=arr.shape,chunks=mFISHwarp.utils.chunks_from_dask(data),dtype=arr.dtype)\n",
    "        arr.to_zarr(p,dimension_separator='/')"
   ]
  },
  {
   "cell_type": "code",
   "execution_count": null,
   "id": "ed63319d-9d43-4bd2-8712-2a1a8ed13464",
   "metadata": {},
   "outputs": [],
   "source": []
  }
 ],
 "metadata": {
  "kernelspec": {
   "display_name": "cellpose2",
   "language": "python",
   "name": "cellpose2"
  },
  "language_info": {
   "codemirror_mode": {
    "name": "ipython",
    "version": 3
   },
   "file_extension": ".py",
   "mimetype": "text/x-python",
   "name": "python",
   "nbconvert_exporter": "python",
   "pygments_lexer": "ipython3",
   "version": "3.8.19"
  }
 },
 "nbformat": 4,
 "nbformat_minor": 5
}
