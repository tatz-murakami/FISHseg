{
 "cells": [
  {
   "cell_type": "code",
   "execution_count": null,
   "id": "ba6fdb85-7f4e-4b4a-b65d-a35d96f1146a",
   "metadata": {},
   "outputs": [],
   "source": [
    "import numpy as np\n",
    "import zarr\n",
    "import dask.array as da\n",
    "from ome_zarr.io import parse_url\n",
    "from ome_zarr.writer import write_image, write_multiscales_metadata\n",
    "from ome_zarr.reader import Reader\n",
    "import mFISHwarp.zarr"
   ]
  },
  {
   "cell_type": "code",
   "execution_count": null,
   "id": "83c5880a-349e-4b72-9a3f-ad1553e15d34",
   "metadata": {},
   "outputs": [],
   "source": [
    "### set parameters\n",
    "zarr_path = '/mnt/ampa02_data01/tmurakami/kidney/registration/empty.zarr'\n",
    "physical_scale = (1.0,2.0,1.3,1.3)\n",
    "downscale_factor = (1,2,2,2)\n",
    "pyramid_level = 5\n",
    "axes_info = ['c','z','y','x']\n",
    "chunk_size = (1,256,256,256)\n",
    "\n",
    "# Create the zarr group\n",
    "store = zarr.DirectoryStore(zarr_path, dimension_separator='/')\n",
    "root = zarr.group(store=store)"
   ]
  },
  {
   "cell_type": "code",
   "execution_count": null,
   "id": "d7e8cf33-dd6c-4573-9a0e-fdc8debb5d11",
   "metadata": {},
   "outputs": [],
   "source": [
    "# Create your 4D array data (replace this with your actual data)\n",
    "data = np.random.rand(4, 512, 512, 512)  # Example data, shape: (C, Z, Y, X)\n",
    "data = da.from_array(data,chunks=chunk_size)\n",
    "\n",
    "pyramid = mFISHwarp.zarr.pyramid_generator_from_dask(data, downscale_factor=downscale_factor, pyramid_level=5, chunk=chunk_size)"
   ]
  },
  {
   "cell_type": "code",
   "execution_count": null,
   "id": "4b9c0a02-8e02-40aa-b687-0fcfcac2a195",
   "metadata": {},
   "outputs": [],
   "source": [
    "# without using ome-zarr library, manually make ome-zarr using pure zarr library and dask\n",
    "for resolution in range(pyramid_level):\n",
    "    arr = pyramid[resolution]\n",
    "    p = root.create_dataset(str(resolution),shape=arr.shape,chunks=chunk_size,dtype=arr.dtype)\n",
    "    arr.to_zarr(p,dimension_separator='/')"
   ]
  },
  {
   "cell_type": "code",
   "execution_count": null,
   "id": "45be383f-d48b-4572-b919-8c18165c186f",
   "metadata": {},
   "outputs": [],
   "source": [
    "# write metadata for the zarr using ome-zarr library\n",
    "datasets = mFISHwarp.zarr.datasets_metadata_generator(physical_scale, downscale_factor, pyramid_level)\n",
    "write_multiscales_metadata(root, datasets=datasets, axes=axes_info)"
   ]
  },
  {
   "cell_type": "code",
   "execution_count": null,
   "id": "30b1acde-d974-45c0-bd8d-ad5917ed1bd5",
   "metadata": {},
   "outputs": [],
   "source": []
  }
 ],
 "metadata": {
  "kernelspec": {
   "display_name": "cellpose2",
   "language": "python",
   "name": "cellpose2"
  },
  "language_info": {
   "codemirror_mode": {
    "name": "ipython",
    "version": 3
   },
   "file_extension": ".py",
   "mimetype": "text/x-python",
   "name": "python",
   "nbconvert_exporter": "python",
   "pygments_lexer": "ipython3",
   "version": "3.8.19"
  }
 },
 "nbformat": 4,
 "nbformat_minor": 5
}
